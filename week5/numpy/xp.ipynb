{
 "cells": [
  {
   "cell_type": "code",
   "execution_count": 1,
   "id": "c33f9ff6-07b4-4e80-b20d-898ce868a800",
   "metadata": {},
   "outputs": [],
   "source": [
    "import numpy as np"
   ]
  },
  {
   "cell_type": "code",
   "execution_count": 2,
   "id": "49f780a3-0a02-4fce-ba3c-ec105305c179",
   "metadata": {},
   "outputs": [],
   "source": [
    "vector1 = np.zeros(10)"
   ]
  },
  {
   "cell_type": "code",
   "execution_count": 3,
   "id": "2619a7d8-9cbb-48e5-bb2e-b4089f643f35",
   "metadata": {},
   "outputs": [
    {
     "data": {
      "text/plain": [
       "array([0., 0., 0., 0., 0., 0., 0., 0., 0., 0.])"
      ]
     },
     "execution_count": 3,
     "metadata": {},
     "output_type": "execute_result"
    }
   ],
   "source": [
    "vector1"
   ]
  },
  {
   "cell_type": "code",
   "execution_count": 4,
   "id": "babfba48-6c85-4ed9-87b2-160bf9d792aa",
   "metadata": {},
   "outputs": [],
   "source": [
    "arr = np.array([1, 2, 3, 4, 5], dtype=np.int64)\n",
    "\n",
    "# Compute the memory size\n",
    "memory_size = arr.size * arr.itemsize"
   ]
  },
  {
   "cell_type": "code",
   "execution_count": 5,
   "id": "ef4304b4-c0bd-42a5-ae85-bbaf1c1339fa",
   "metadata": {},
   "outputs": [
    {
     "data": {
      "text/plain": [
       "40"
      ]
     },
     "execution_count": 5,
     "metadata": {},
     "output_type": "execute_result"
    }
   ],
   "source": [
    "memory_size"
   ]
  },
  {
   "cell_type": "code",
   "execution_count": 6,
   "id": "94534d17-fd1a-4bd3-ab99-0668ae22ab16",
   "metadata": {},
   "outputs": [
    {
     "data": {
      "text/plain": [
       "\"add(x1, x2, /, out=None, *, where=True, casting='same_kind', order='K', dtype=None, subok=True[, signature, extobj])\\n\\nAdd arguments element-wise.\\n\\nParameters\\n----------\\nx1, x2 : array_like\\n    The arrays to be added.\\n    If ``x1.shape != x2.shape``, they must be broadcastable to a common\\n    shape (which becomes the shape of the output).\\nout : ndarray, None, or tuple of ndarray and None, optional\\n    A location into which the result is stored. If provided, it must have\\n    a shape that the inputs broadcast to. If not provided or None,\\n    a freshly-allocated array is returned. A tuple (possible only as a\\n    keyword argument) must have length equal to the number of outputs.\\nwhere : array_like, optional\\n    This condition is broadcast over the input. At locations where the\\n    condition is True, the `out` array will be set to the ufunc result.\\n    Elsewhere, the `out` array will retain its original value.\\n    Note that if an uninitialized `out` array is created via the default\\n    ``out=None``, locations within it where the condition is False will\\n    remain uninitialized.\\n**kwargs\\n    For other keyword-only arguments, see the\\n    :ref:`ufunc docs <ufuncs.kwargs>`.\\n\\nReturns\\n-------\\nadd : ndarray or scalar\\n    The sum of `x1` and `x2`, element-wise.\\n    This is a scalar if both `x1` and `x2` are scalars.\\n\\nNotes\\n-----\\nEquivalent to `x1` + `x2` in terms of array broadcasting.\\n\\nExamples\\n--------\\n>>> np.add(1.0, 4.0)\\n5.0\\n>>> x1 = np.arange(9.0).reshape((3, 3))\\n>>> x2 = np.arange(3.0)\\n>>> np.add(x1, x2)\\narray([[  0.,   2.,   4.],\\n       [  3.,   5.,   7.],\\n       [  6.,   8.,  10.]])\\n\\nThe ``+`` operator can be used as a shorthand for ``np.add`` on ndarrays.\\n\\n>>> x1 = np.arange(9.0).reshape((3, 3))\\n>>> x2 = np.arange(3.0)\\n>>> x1 + x2\\narray([[ 0.,  2.,  4.],\\n       [ 3.,  5.,  7.],\\n       [ 6.,  8., 10.]])\""
      ]
     },
     "execution_count": 6,
     "metadata": {},
     "output_type": "execute_result"
    }
   ],
   "source": [
    "np.add.__doc__"
   ]
  },
  {
   "cell_type": "code",
   "execution_count": 7,
   "id": "03c7a375-4c12-4bfe-8097-98e718bd3528",
   "metadata": {},
   "outputs": [],
   "source": [
    "vec = np.arange(10, 50)"
   ]
  },
  {
   "cell_type": "code",
   "execution_count": 8,
   "id": "4060b38b-3e8e-4339-9a8e-1f0420cdea2d",
   "metadata": {},
   "outputs": [
    {
     "data": {
      "text/plain": [
       "array([10, 11, 12, 13, 14, 15, 16, 17, 18, 19, 20, 21, 22, 23, 24, 25, 26,\n",
       "       27, 28, 29, 30, 31, 32, 33, 34, 35, 36, 37, 38, 39, 40, 41, 42, 43,\n",
       "       44, 45, 46, 47, 48, 49])"
      ]
     },
     "execution_count": 8,
     "metadata": {},
     "output_type": "execute_result"
    }
   ],
   "source": [
    "vec"
   ]
  },
  {
   "cell_type": "code",
   "execution_count": 10,
   "id": "4148fa96-29f9-42cc-8144-33531df6f2c6",
   "metadata": {},
   "outputs": [],
   "source": [
    "reversed_vec = vec[::-1]"
   ]
  },
  {
   "cell_type": "code",
   "execution_count": 11,
   "id": "5572aed0-5a97-48f3-8344-9802a5ffa9bb",
   "metadata": {},
   "outputs": [
    {
     "data": {
      "text/plain": [
       "array([49, 48, 47, 46, 45, 44, 43, 42, 41, 40, 39, 38, 37, 36, 35, 34, 33,\n",
       "       32, 31, 30, 29, 28, 27, 26, 25, 24, 23, 22, 21, 20, 19, 18, 17, 16,\n",
       "       15, 14, 13, 12, 11, 10])"
      ]
     },
     "execution_count": 11,
     "metadata": {},
     "output_type": "execute_result"
    }
   ],
   "source": [
    "reversed_vec"
   ]
  },
  {
   "cell_type": "code",
   "execution_count": 12,
   "id": "9c51ae08-21b1-43df-b747-45a304d2b525",
   "metadata": {},
   "outputs": [],
   "source": [
    "matrix = np.arange(9).reshape(3, 3)"
   ]
  },
  {
   "cell_type": "code",
   "execution_count": 13,
   "id": "42e7c334-5b45-45a3-8961-4db479cf952a",
   "metadata": {},
   "outputs": [
    {
     "data": {
      "text/plain": [
       "array([[0, 1, 2],\n",
       "       [3, 4, 5],\n",
       "       [6, 7, 8]])"
      ]
     },
     "execution_count": 13,
     "metadata": {},
     "output_type": "execute_result"
    }
   ],
   "source": [
    "matrix"
   ]
  },
  {
   "cell_type": "code",
   "execution_count": 14,
   "id": "7398f409-c692-4b98-971f-4b9b5491b0a7",
   "metadata": {},
   "outputs": [],
   "source": [
    "arr = np.array([1, 2, 0, 0, 4, 0])\n",
    "indices = np.nonzero(arr)"
   ]
  },
  {
   "cell_type": "code",
   "execution_count": 15,
   "id": "df7aa829-1eae-433f-b804-0e6631a18c6a",
   "metadata": {},
   "outputs": [
    {
     "data": {
      "text/plain": [
       "(array([0, 1, 4]),)"
      ]
     },
     "execution_count": 15,
     "metadata": {},
     "output_type": "execute_result"
    }
   ],
   "source": [
    "indices"
   ]
  },
  {
   "cell_type": "code",
   "execution_count": 16,
   "id": "04f46581-1b47-4a7f-ab19-6e452ff8081d",
   "metadata": {},
   "outputs": [],
   "source": [
    "identity_matrix = np.eye(3)"
   ]
  },
  {
   "cell_type": "code",
   "execution_count": 17,
   "id": "b30190ab-d978-421a-be7e-9798e93a245b",
   "metadata": {},
   "outputs": [
    {
     "data": {
      "text/plain": [
       "array([[1., 0., 0.],\n",
       "       [0., 1., 0.],\n",
       "       [0., 0., 1.]])"
      ]
     },
     "execution_count": 17,
     "metadata": {},
     "output_type": "execute_result"
    }
   ],
   "source": [
    "identity_matrix"
   ]
  },
  {
   "cell_type": "code",
   "execution_count": 18,
   "id": "3f493a94-c9d2-4a54-b972-e248bef021ad",
   "metadata": {},
   "outputs": [
    {
     "data": {
      "text/plain": [
       "array([[0., 1., 2., 3., 4.],\n",
       "       [0., 1., 2., 3., 4.],\n",
       "       [0., 1., 2., 3., 4.],\n",
       "       [0., 1., 2., 3., 4.],\n",
       "       [0., 1., 2., 3., 4.]])"
      ]
     },
     "execution_count": 18,
     "metadata": {},
     "output_type": "execute_result"
    }
   ],
   "source": [
    "matrix = np.zeros((5, 5))\n",
    "matrix += np.arange(5)\n",
    "matrix"
   ]
  },
  {
   "cell_type": "code",
   "execution_count": 19,
   "id": "5ee776e4-81c7-402f-9a56-45850adadeb9",
   "metadata": {},
   "outputs": [],
   "source": [
    "vec = np.linspace(0, 1, num=10, endpoint=False)"
   ]
  },
  {
   "cell_type": "code",
   "execution_count": 20,
   "id": "fc0687c0-6d5c-44be-bdab-cc3d72243f78",
   "metadata": {},
   "outputs": [
    {
     "data": {
      "text/plain": [
       "array([0. , 0.1, 0.2, 0.3, 0.4, 0.5, 0.6, 0.7, 0.8, 0.9])"
      ]
     },
     "execution_count": 20,
     "metadata": {},
     "output_type": "execute_result"
    }
   ],
   "source": [
    "vec"
   ]
  },
  {
   "cell_type": "code",
   "execution_count": 21,
   "id": "81359247-e7de-4a9a-8a29-10409034c056",
   "metadata": {},
   "outputs": [],
   "source": [
    "vec = np.random.rand(10)\n",
    "sorted_vec = np.sort(vec)"
   ]
  },
  {
   "cell_type": "code",
   "execution_count": 22,
   "id": "f10f2d14-e1bc-42b4-a6a8-079cf12f5cc5",
   "metadata": {},
   "outputs": [
    {
     "data": {
      "text/plain": [
       "array([0.03443898, 0.044486  , 0.11349294, 0.20096027, 0.24984601,\n",
       "       0.38925953, 0.44700619, 0.53360541, 0.60744765, 0.86206913])"
      ]
     },
     "execution_count": 22,
     "metadata": {},
     "output_type": "execute_result"
    }
   ],
   "source": [
    "sorted_vec"
   ]
  },
  {
   "cell_type": "code",
   "execution_count": 23,
   "id": "d859b228-4b97-4f33-96da-7cf674b6199e",
   "metadata": {},
   "outputs": [
    {
     "data": {
      "text/plain": [
       "finfo(resolution=1e-15, min=-1.7976931348623157e+308, max=1.7976931348623157e+308, dtype=float64)"
      ]
     },
     "execution_count": 23,
     "metadata": {},
     "output_type": "execute_result"
    }
   ],
   "source": [
    "np.iinfo(np.int8)\n",
    "np.iinfo(np.int32)\n",
    "np.iinfo(np.int64)\n",
    "np.finfo(np.float32)\n",
    "np.finfo(np.float64)"
   ]
  },
  {
   "cell_type": "code",
   "execution_count": 25,
   "id": "2cc98a0a-c5fa-48e3-a3e6-59e554d2a77e",
   "metadata": {},
   "outputs": [],
   "source": [
    "float_array = np.array([1.5, 2.7, 3.9], dtype=np.float32)\n",
    "int_array = float_array.astype(np.int32)"
   ]
  },
  {
   "cell_type": "code",
   "execution_count": 26,
   "id": "cb3b9447-9928-4216-b319-4101ddcb9b8a",
   "metadata": {},
   "outputs": [
    {
     "data": {
      "text/plain": [
       "array([1, 2, 3], dtype=int32)"
      ]
     },
     "execution_count": 26,
     "metadata": {},
     "output_type": "execute_result"
    }
   ],
   "source": [
    "int_array"
   ]
  },
  {
   "cell_type": "code",
   "execution_count": 27,
   "id": "03706bdd-525d-46ed-86d6-cc8f8ff369aa",
   "metadata": {},
   "outputs": [
    {
     "data": {
      "text/plain": [
       "array([[-0.07572947, -0.14986039,  0.0470887 ,  0.17850116],\n",
       "       [ 0.32260162, -0.14823794, -0.36274275,  0.18837907],\n",
       "       [ 0.0978025 ,  0.22756487,  0.07207258, -0.39743994]])"
      ]
     },
     "execution_count": 27,
     "metadata": {},
     "output_type": "execute_result"
    }
   ],
   "source": [
    "matrix = np.random.rand(3, 4)\n",
    "row_means = np.mean(matrix, axis=1, keepdims=True)\n",
    "matrix -= row_means\n",
    "matrix"
   ]
  },
  {
   "cell_type": "code",
   "execution_count": 28,
   "id": "2f18774b-e0f8-464b-a0b0-ebca07b47b61",
   "metadata": {},
   "outputs": [
    {
     "data": {
      "text/plain": [
       "array([[9, 0, 7],\n",
       "       [4, 3, 2],\n",
       "       [1, 6, 5]])"
      ]
     },
     "execution_count": 28,
     "metadata": {},
     "output_type": "execute_result"
    }
   ],
   "source": [
    "matrix = np.array([[4, 3, 2],\n",
    "                   [1, 6, 5],\n",
    "                   [9, 0, 7]])\n",
    "\n",
    "# Sort by the second column (index 1)\n",
    "sorted_matrix = matrix[matrix[:, 1].argsort()]\n",
    "sorted_matrix"
   ]
  },
  {
   "cell_type": "code",
   "execution_count": 30,
   "id": "39b36f7b-e2d7-4cdc-ba4f-3208475d9d5d",
   "metadata": {},
   "outputs": [
    {
     "data": {
      "text/plain": [
       "array([[3, 4, 5],\n",
       "       [0, 1, 2],\n",
       "       [6, 7, 8]])"
      ]
     },
     "execution_count": 30,
     "metadata": {},
     "output_type": "execute_result"
    }
   ],
   "source": [
    "matrix = np.array([[0, 1, 2],\n",
    "                   [3, 4, 5],\n",
    "                   [6, 7, 8]])\n",
    "\n",
    "# Swap the first and second row\n",
    "matrix[[0, 1]] = matrix[[1, 0]]\n",
    "matrix"
   ]
  },
  {
   "cell_type": "code",
   "execution_count": 31,
   "id": "fb310b6d-d8ff-4650-89ac-9884c050847f",
   "metadata": {},
   "outputs": [
    {
     "data": {
      "text/plain": [
       "array([0, 0, 0, 2, 3, 3, 4, 6])"
      ]
     },
     "execution_count": 31,
     "metadata": {},
     "output_type": "execute_result"
    }
   ],
   "source": [
    "C = np.array([3, 0, 1, 2, 1, 0, 1])\n",
    "A = np.repeat(np.arange(len(C)), C)\n",
    "A"
   ]
  },
  {
   "cell_type": "code",
   "execution_count": null,
   "id": "147561f8-ff9f-4775-9b10-8e995fa1c23e",
   "metadata": {},
   "outputs": [],
   "source": []
  }
 ],
 "metadata": {
  "kernelspec": {
   "display_name": "Python 3 (ipykernel)",
   "language": "python",
   "name": "python3"
  },
  "language_info": {
   "codemirror_mode": {
    "name": "ipython",
    "version": 3
   },
   "file_extension": ".py",
   "mimetype": "text/x-python",
   "name": "python",
   "nbconvert_exporter": "python",
   "pygments_lexer": "ipython3",
   "version": "3.11.3"
  }
 },
 "nbformat": 4,
 "nbformat_minor": 5
}
