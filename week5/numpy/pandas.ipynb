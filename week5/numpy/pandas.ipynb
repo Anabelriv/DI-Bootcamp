{
 "cells": [
  {
   "cell_type": "code",
   "execution_count": 1,
   "id": "a60dedda-b6de-48f9-8ffd-e75fed06eafa",
   "metadata": {},
   "outputs": [],
   "source": [
    "import pandas as pd\n",
    "import numpy as np"
   ]
  },
  {
   "cell_type": "code",
   "execution_count": 2,
   "id": "79e5d70e-2302-45f2-890c-c4ffd0367ddd",
   "metadata": {},
   "outputs": [
    {
     "data": {
      "text/plain": [
       "0    a\n",
       "1    b\n",
       "2    c\n",
       "dtype: object"
      ]
     },
     "execution_count": 2,
     "metadata": {},
     "output_type": "execute_result"
    }
   ],
   "source": [
    "# series - 1 dim array of labeled data\n",
    "pd.Series(['a', 'b','c'])"
   ]
  },
  {
   "cell_type": "code",
   "execution_count": 3,
   "id": "79d3b02d-57a4-45ff-b596-ba4ee12c9b2c",
   "metadata": {},
   "outputs": [],
   "source": [
    "df = pd.DataFrame ({\n",
    "    'Name': ['yossi', 'anna', 'alexey'],\n",
    "    'color':['red', 'blue', 'yellow'],\n",
    "    'random':[10.0, np.nan, np.nan]\n",
    "})"
   ]
  },
  {
   "cell_type": "code",
   "execution_count": 4,
   "id": "a123a98a-e4d2-441a-b3cf-810de4bc94d6",
   "metadata": {},
   "outputs": [
    {
     "data": {
      "text/html": [
       "<div>\n",
       "<style scoped>\n",
       "    .dataframe tbody tr th:only-of-type {\n",
       "        vertical-align: middle;\n",
       "    }\n",
       "\n",
       "    .dataframe tbody tr th {\n",
       "        vertical-align: top;\n",
       "    }\n",
       "\n",
       "    .dataframe thead th {\n",
       "        text-align: right;\n",
       "    }\n",
       "</style>\n",
       "<table border=\"1\" class=\"dataframe\">\n",
       "  <thead>\n",
       "    <tr style=\"text-align: right;\">\n",
       "      <th></th>\n",
       "      <th>Name</th>\n",
       "      <th>color</th>\n",
       "      <th>random</th>\n",
       "    </tr>\n",
       "  </thead>\n",
       "  <tbody>\n",
       "    <tr>\n",
       "      <th>0</th>\n",
       "      <td>yossi</td>\n",
       "      <td>red</td>\n",
       "      <td>10.0</td>\n",
       "    </tr>\n",
       "    <tr>\n",
       "      <th>1</th>\n",
       "      <td>anna</td>\n",
       "      <td>blue</td>\n",
       "      <td>NaN</td>\n",
       "    </tr>\n",
       "    <tr>\n",
       "      <th>2</th>\n",
       "      <td>alexey</td>\n",
       "      <td>yellow</td>\n",
       "      <td>NaN</td>\n",
       "    </tr>\n",
       "  </tbody>\n",
       "</table>\n",
       "</div>"
      ],
      "text/plain": [
       "     Name   color  random\n",
       "0   yossi     red    10.0\n",
       "1    anna    blue     NaN\n",
       "2  alexey  yellow     NaN"
      ]
     },
     "execution_count": 4,
     "metadata": {},
     "output_type": "execute_result"
    }
   ],
   "source": [
    "df"
   ]
  },
  {
   "cell_type": "code",
   "execution_count": 5,
   "id": "02a86250-a930-4492-a4e9-676669dd2874",
   "metadata": {},
   "outputs": [
    {
     "data": {
      "text/plain": [
       "0    10.0\n",
       "1     NaN\n",
       "2     NaN\n",
       "Name: random, dtype: float64"
      ]
     },
     "execution_count": 5,
     "metadata": {},
     "output_type": "execute_result"
    }
   ],
   "source": [
    "df['random']"
   ]
  },
  {
   "cell_type": "code",
   "execution_count": 6,
   "id": "ed1b910a-2df8-4aa2-acaf-41bc388e4852",
   "metadata": {},
   "outputs": [],
   "source": [
    "#CSV file, comma separated vales\n",
    "df.to_csv('data.csv', index =False)"
   ]
  },
  {
   "cell_type": "code",
   "execution_count": 7,
   "id": "ef11d6ef-0a2f-4ecb-9d53-f337b60813e5",
   "metadata": {},
   "outputs": [
    {
     "name": "stdout",
     "output_type": "stream",
     "text": [
      "           0\n",
      "apples    20\n",
      "bananas   30\n",
      "cherries  15\n",
      "Dates     10\n"
     ]
    }
   ],
   "source": [
    "series = pd.Series([20, 30, 15, 10], index=[\"apples\", \"bananas\", \"cherries\", \"Dates\"])\n",
    "df = pd.DataFrame(series)\n",
    "print(df)"
   ]
  },
  {
   "cell_type": "code",
   "execution_count": 8,
   "id": "db90433b-47e5-4276-b8c2-6a51a9c0b058",
   "metadata": {},
   "outputs": [
    {
     "data": {
      "text/html": [
       "<div>\n",
       "<style scoped>\n",
       "    .dataframe tbody tr th:only-of-type {\n",
       "        vertical-align: middle;\n",
       "    }\n",
       "\n",
       "    .dataframe tbody tr th {\n",
       "        vertical-align: top;\n",
       "    }\n",
       "\n",
       "    .dataframe thead th {\n",
       "        text-align: right;\n",
       "    }\n",
       "</style>\n",
       "<table border=\"1\" class=\"dataframe\">\n",
       "  <thead>\n",
       "    <tr style=\"text-align: right;\">\n",
       "      <th></th>\n",
       "      <th>Quantity</th>\n",
       "      <th>Color</th>\n",
       "      <th>Price_per_kg</th>\n",
       "    </tr>\n",
       "  </thead>\n",
       "  <tbody>\n",
       "    <tr>\n",
       "      <th>Apple</th>\n",
       "      <td>150</td>\n",
       "      <td>Red</td>\n",
       "      <td>3</td>\n",
       "    </tr>\n",
       "    <tr>\n",
       "      <th>Banana</th>\n",
       "      <td>200</td>\n",
       "      <td>Yellow</td>\n",
       "      <td>2</td>\n",
       "    </tr>\n",
       "    <tr>\n",
       "      <th>Cherry</th>\n",
       "      <td>50</td>\n",
       "      <td>Red</td>\n",
       "      <td>4</td>\n",
       "    </tr>\n",
       "    <tr>\n",
       "      <th>Date</th>\n",
       "      <td>100</td>\n",
       "      <td>Brown</td>\n",
       "      <td>5</td>\n",
       "    </tr>\n",
       "  </tbody>\n",
       "</table>\n",
       "</div>"
      ],
      "text/plain": [
       "        Quantity   Color  Price_per_kg\n",
       "Apple        150     Red             3\n",
       "Banana       200  Yellow             2\n",
       "Cherry        50     Red             4\n",
       "Date         100   Brown             5"
      ]
     },
     "execution_count": 8,
     "metadata": {},
     "output_type": "execute_result"
    }
   ],
   "source": [
    "# Create a dictionary with the fruit data\n",
    "fruit_names = ['Apple', 'Banana', 'Cherry', 'Date']\n",
    "quantities = [150, 200, 50, 100]\n",
    "colors = ['Red', 'Yellow', 'Red', 'Brown']\n",
    "price_per_kg= [3, 2, 4, 5]\n",
    "\n",
    "\n",
    "my_df = pd.DataFrame({\n",
    "    'Quantity': quantities,\n",
    "    'Color': colors,\n",
    "    'Price_per_kg': price_per_kg    \n",
    "}, index = fruit_names)\n",
    "\n",
    "my_df\n",
    "# # Save the DataFrame to a CSV file\n",
    "# csv_filename = 'store_1_stock.csv'\n",
    "# df.to_csv(csv_filename, index=False)\n",
    "# print(f\"DataFrame saved to {csv_filename}\")\n"
   ]
  },
  {
   "cell_type": "code",
   "execution_count": 9,
   "id": "bcb49c7a-335f-449a-91ea-f7c1bfecfd85",
   "metadata": {},
   "outputs": [
    {
     "data": {
      "text/plain": [
       "Quantity        150\n",
       "Color           Red\n",
       "Price_per_kg      3\n",
       "Name: Apple, dtype: object"
      ]
     },
     "execution_count": 9,
     "metadata": {},
     "output_type": "execute_result"
    }
   ],
   "source": [
    "my_df.loc['Apple']"
   ]
  },
  {
   "cell_type": "code",
   "execution_count": 10,
   "id": "984867b0-450e-478d-b0c5-13edd53f820a",
   "metadata": {},
   "outputs": [
    {
     "data": {
      "text/plain": [
       "Quantity           200\n",
       "Color           Yellow\n",
       "Price_per_kg         2\n",
       "Name: Banana, dtype: object"
      ]
     },
     "execution_count": 10,
     "metadata": {},
     "output_type": "execute_result"
    }
   ],
   "source": [
    "my_df.iloc[1]"
   ]
  },
  {
   "cell_type": "code",
   "execution_count": 11,
   "id": "00567365-d9d1-4cb1-869f-f900fa3f805c",
   "metadata": {},
   "outputs": [],
   "source": [
    "my_df.to_csv('my_df.csv')"
   ]
  },
  {
   "cell_type": "code",
   "execution_count": 12,
   "id": "96dad1b5-aba3-43bf-8d53-e2b1ed51697f",
   "metadata": {},
   "outputs": [
    {
     "name": "stdout",
     "output_type": "stream",
     "text": [
      "        Quantity   Color  Price_per_kg\n",
      "Apple        150     Red             3\n",
      "Banana       200  Yellow             2\n",
      "Cherry        50     Red             4\n",
      "Date         100   Brown             5\n"
     ]
    }
   ],
   "source": [
    "df = pd.read_csv('my_df.csv', index_col=0)\n",
    "print(df)"
   ]
  },
  {
   "cell_type": "code",
   "execution_count": 13,
   "id": "dafe0342-67c3-43df-a578-57b7a086500e",
   "metadata": {},
   "outputs": [
    {
     "data": {
      "text/html": [
       "<div>\n",
       "<style scoped>\n",
       "    .dataframe tbody tr th:only-of-type {\n",
       "        vertical-align: middle;\n",
       "    }\n",
       "\n",
       "    .dataframe tbody tr th {\n",
       "        vertical-align: top;\n",
       "    }\n",
       "\n",
       "    .dataframe thead th {\n",
       "        text-align: right;\n",
       "    }\n",
       "</style>\n",
       "<table border=\"1\" class=\"dataframe\">\n",
       "  <thead>\n",
       "    <tr style=\"text-align: right;\">\n",
       "      <th></th>\n",
       "      <th>Quantity</th>\n",
       "      <th>Color</th>\n",
       "      <th>Price_per_kg</th>\n",
       "    </tr>\n",
       "  </thead>\n",
       "  <tbody>\n",
       "    <tr>\n",
       "      <th>Apple</th>\n",
       "      <td>150</td>\n",
       "      <td>Red</td>\n",
       "      <td>3</td>\n",
       "    </tr>\n",
       "    <tr>\n",
       "      <th>Banana</th>\n",
       "      <td>200</td>\n",
       "      <td>Yellow</td>\n",
       "      <td>2</td>\n",
       "    </tr>\n",
       "  </tbody>\n",
       "</table>\n",
       "</div>"
      ],
      "text/plain": [
       "        Quantity   Color  Price_per_kg\n",
       "Apple        150     Red             3\n",
       "Banana       200  Yellow             2"
      ]
     },
     "execution_count": 13,
     "metadata": {},
     "output_type": "execute_result"
    }
   ],
   "source": [
    "df.head(2) # first 2 rows"
   ]
  },
  {
   "cell_type": "code",
   "execution_count": 14,
   "id": "0c331190-7103-4ee0-bc40-f33c6a9735cd",
   "metadata": {},
   "outputs": [
    {
     "data": {
      "text/html": [
       "<div>\n",
       "<style scoped>\n",
       "    .dataframe tbody tr th:only-of-type {\n",
       "        vertical-align: middle;\n",
       "    }\n",
       "\n",
       "    .dataframe tbody tr th {\n",
       "        vertical-align: top;\n",
       "    }\n",
       "\n",
       "    .dataframe thead th {\n",
       "        text-align: right;\n",
       "    }\n",
       "</style>\n",
       "<table border=\"1\" class=\"dataframe\">\n",
       "  <thead>\n",
       "    <tr style=\"text-align: right;\">\n",
       "      <th></th>\n",
       "      <th>Quantity</th>\n",
       "      <th>Color</th>\n",
       "      <th>Price_per_kg</th>\n",
       "    </tr>\n",
       "  </thead>\n",
       "  <tbody>\n",
       "    <tr>\n",
       "      <th>Date</th>\n",
       "      <td>100</td>\n",
       "      <td>Brown</td>\n",
       "      <td>5</td>\n",
       "    </tr>\n",
       "  </tbody>\n",
       "</table>\n",
       "</div>"
      ],
      "text/plain": [
       "      Quantity  Color  Price_per_kg\n",
       "Date       100  Brown             5"
      ]
     },
     "execution_count": 14,
     "metadata": {},
     "output_type": "execute_result"
    }
   ],
   "source": [
    "df.tail(1) #last rows"
   ]
  },
  {
   "cell_type": "code",
   "execution_count": 15,
   "id": "3b49689d-cf3a-469e-9341-9971cd94c2da",
   "metadata": {},
   "outputs": [
    {
     "name": "stdout",
     "output_type": "stream",
     "text": [
      "<class 'pandas.core.frame.DataFrame'>\n",
      "Index: 4 entries, Apple to Date\n",
      "Data columns (total 3 columns):\n",
      " #   Column        Non-Null Count  Dtype \n",
      "---  ------        --------------  ----- \n",
      " 0   Quantity      4 non-null      int64 \n",
      " 1   Color         4 non-null      object\n",
      " 2   Price_per_kg  4 non-null      int64 \n",
      "dtypes: int64(2), object(1)\n",
      "memory usage: 128.0+ bytes\n"
     ]
    }
   ],
   "source": [
    "df.info()"
   ]
  },
  {
   "cell_type": "code",
   "execution_count": 16,
   "id": "b1836329-b3fb-4cf3-ac2b-b777d4e80af4",
   "metadata": {},
   "outputs": [
    {
     "data": {
      "text/html": [
       "<div>\n",
       "<style scoped>\n",
       "    .dataframe tbody tr th:only-of-type {\n",
       "        vertical-align: middle;\n",
       "    }\n",
       "\n",
       "    .dataframe tbody tr th {\n",
       "        vertical-align: top;\n",
       "    }\n",
       "\n",
       "    .dataframe thead th {\n",
       "        text-align: right;\n",
       "    }\n",
       "</style>\n",
       "<table border=\"1\" class=\"dataframe\">\n",
       "  <thead>\n",
       "    <tr style=\"text-align: right;\">\n",
       "      <th></th>\n",
       "      <th>Quantity</th>\n",
       "      <th>Price_per_kg</th>\n",
       "    </tr>\n",
       "  </thead>\n",
       "  <tbody>\n",
       "    <tr>\n",
       "      <th>count</th>\n",
       "      <td>4.000000</td>\n",
       "      <td>4.000000</td>\n",
       "    </tr>\n",
       "    <tr>\n",
       "      <th>mean</th>\n",
       "      <td>125.000000</td>\n",
       "      <td>3.500000</td>\n",
       "    </tr>\n",
       "    <tr>\n",
       "      <th>std</th>\n",
       "      <td>64.549722</td>\n",
       "      <td>1.290994</td>\n",
       "    </tr>\n",
       "    <tr>\n",
       "      <th>min</th>\n",
       "      <td>50.000000</td>\n",
       "      <td>2.000000</td>\n",
       "    </tr>\n",
       "    <tr>\n",
       "      <th>25%</th>\n",
       "      <td>87.500000</td>\n",
       "      <td>2.750000</td>\n",
       "    </tr>\n",
       "    <tr>\n",
       "      <th>50%</th>\n",
       "      <td>125.000000</td>\n",
       "      <td>3.500000</td>\n",
       "    </tr>\n",
       "    <tr>\n",
       "      <th>75%</th>\n",
       "      <td>162.500000</td>\n",
       "      <td>4.250000</td>\n",
       "    </tr>\n",
       "    <tr>\n",
       "      <th>max</th>\n",
       "      <td>200.000000</td>\n",
       "      <td>5.000000</td>\n",
       "    </tr>\n",
       "  </tbody>\n",
       "</table>\n",
       "</div>"
      ],
      "text/plain": [
       "         Quantity  Price_per_kg\n",
       "count    4.000000      4.000000\n",
       "mean   125.000000      3.500000\n",
       "std     64.549722      1.290994\n",
       "min     50.000000      2.000000\n",
       "25%     87.500000      2.750000\n",
       "50%    125.000000      3.500000\n",
       "75%    162.500000      4.250000\n",
       "max    200.000000      5.000000"
      ]
     },
     "execution_count": 16,
     "metadata": {},
     "output_type": "execute_result"
    }
   ],
   "source": [
    "df.describe()"
   ]
  },
  {
   "cell_type": "code",
   "execution_count": 17,
   "id": "9f60822e-5cbe-4a68-afb0-3f4943a0bb11",
   "metadata": {},
   "outputs": [
    {
     "data": {
      "text/html": [
       "<div>\n",
       "<style scoped>\n",
       "    .dataframe tbody tr th:only-of-type {\n",
       "        vertical-align: middle;\n",
       "    }\n",
       "\n",
       "    .dataframe tbody tr th {\n",
       "        vertical-align: top;\n",
       "    }\n",
       "\n",
       "    .dataframe thead th {\n",
       "        text-align: right;\n",
       "    }\n",
       "</style>\n",
       "<table border=\"1\" class=\"dataframe\">\n",
       "  <thead>\n",
       "    <tr style=\"text-align: right;\">\n",
       "      <th></th>\n",
       "      <th>Quantity</th>\n",
       "      <th>Color</th>\n",
       "      <th>Price_per_kg</th>\n",
       "    </tr>\n",
       "  </thead>\n",
       "  <tbody>\n",
       "    <tr>\n",
       "      <th>Apple</th>\n",
       "      <td>150</td>\n",
       "      <td>Red</td>\n",
       "      <td>3</td>\n",
       "    </tr>\n",
       "    <tr>\n",
       "      <th>Banana</th>\n",
       "      <td>200</td>\n",
       "      <td>Yellow</td>\n",
       "      <td>2</td>\n",
       "    </tr>\n",
       "    <tr>\n",
       "      <th>Cherry</th>\n",
       "      <td>50</td>\n",
       "      <td>Red</td>\n",
       "      <td>4</td>\n",
       "    </tr>\n",
       "  </tbody>\n",
       "</table>\n",
       "</div>"
      ],
      "text/plain": [
       "        Quantity   Color  Price_per_kg\n",
       "Apple        150     Red             3\n",
       "Banana       200  Yellow             2\n",
       "Cherry        50     Red             4"
      ]
     },
     "execution_count": 17,
     "metadata": {},
     "output_type": "execute_result"
    }
   ],
   "source": [
    "# slicing\n",
    "df[0:3]"
   ]
  },
  {
   "cell_type": "code",
   "execution_count": 18,
   "id": "32371831-0eba-4bb6-b3b4-cdb9a0703baf",
   "metadata": {},
   "outputs": [
    {
     "data": {
      "text/plain": [
       "Apple     3\n",
       "Banana    2\n",
       "Cherry    4\n",
       "Name: Price_per_kg, dtype: int64"
      ]
     },
     "execution_count": 18,
     "metadata": {},
     "output_type": "execute_result"
    }
   ],
   "source": [
    "df[0:3]['Price_per_kg']"
   ]
  },
  {
   "cell_type": "code",
   "execution_count": 19,
   "id": "e72cad0c-39a5-4a78-b518-08e6a3d15119",
   "metadata": {},
   "outputs": [],
   "source": [
    "# ADDING RENAMING REMOVING\n",
    "df['Country']=['USA', 'USA', 'USA', 'Canada']"
   ]
  },
  {
   "cell_type": "code",
   "execution_count": 20,
   "id": "1bcaaba8-fe3b-4d56-a9d2-944f2d88e7d8",
   "metadata": {},
   "outputs": [
    {
     "data": {
      "text/html": [
       "<div>\n",
       "<style scoped>\n",
       "    .dataframe tbody tr th:only-of-type {\n",
       "        vertical-align: middle;\n",
       "    }\n",
       "\n",
       "    .dataframe tbody tr th {\n",
       "        vertical-align: top;\n",
       "    }\n",
       "\n",
       "    .dataframe thead th {\n",
       "        text-align: right;\n",
       "    }\n",
       "</style>\n",
       "<table border=\"1\" class=\"dataframe\">\n",
       "  <thead>\n",
       "    <tr style=\"text-align: right;\">\n",
       "      <th></th>\n",
       "      <th>Quantity</th>\n",
       "      <th>Color</th>\n",
       "      <th>Price_per_kg</th>\n",
       "      <th>Country</th>\n",
       "    </tr>\n",
       "  </thead>\n",
       "  <tbody>\n",
       "    <tr>\n",
       "      <th>Apple</th>\n",
       "      <td>150</td>\n",
       "      <td>Red</td>\n",
       "      <td>3</td>\n",
       "      <td>USA</td>\n",
       "    </tr>\n",
       "    <tr>\n",
       "      <th>Banana</th>\n",
       "      <td>200</td>\n",
       "      <td>Yellow</td>\n",
       "      <td>2</td>\n",
       "      <td>USA</td>\n",
       "    </tr>\n",
       "    <tr>\n",
       "      <th>Cherry</th>\n",
       "      <td>50</td>\n",
       "      <td>Red</td>\n",
       "      <td>4</td>\n",
       "      <td>USA</td>\n",
       "    </tr>\n",
       "    <tr>\n",
       "      <th>Date</th>\n",
       "      <td>100</td>\n",
       "      <td>Brown</td>\n",
       "      <td>5</td>\n",
       "      <td>Canada</td>\n",
       "    </tr>\n",
       "  </tbody>\n",
       "</table>\n",
       "</div>"
      ],
      "text/plain": [
       "        Quantity   Color  Price_per_kg Country\n",
       "Apple        150     Red             3     USA\n",
       "Banana       200  Yellow             2     USA\n",
       "Cherry        50     Red             4     USA\n",
       "Date         100   Brown             5  Canada"
      ]
     },
     "execution_count": 20,
     "metadata": {},
     "output_type": "execute_result"
    }
   ],
   "source": [
    "df"
   ]
  },
  {
   "cell_type": "code",
   "execution_count": 21,
   "id": "c043e05d-fa18-457c-9b5d-24d5bb263c86",
   "metadata": {},
   "outputs": [],
   "source": [
    "df.rename(columns={'Price_per_kg': 'Price'}, inplace=True)"
   ]
  },
  {
   "cell_type": "code",
   "execution_count": 22,
   "id": "4d4ad2c6-d342-4807-a54c-f7f422ed5888",
   "metadata": {},
   "outputs": [
    {
     "data": {
      "text/html": [
       "<div>\n",
       "<style scoped>\n",
       "    .dataframe tbody tr th:only-of-type {\n",
       "        vertical-align: middle;\n",
       "    }\n",
       "\n",
       "    .dataframe tbody tr th {\n",
       "        vertical-align: top;\n",
       "    }\n",
       "\n",
       "    .dataframe thead th {\n",
       "        text-align: right;\n",
       "    }\n",
       "</style>\n",
       "<table border=\"1\" class=\"dataframe\">\n",
       "  <thead>\n",
       "    <tr style=\"text-align: right;\">\n",
       "      <th></th>\n",
       "      <th>Quantity</th>\n",
       "      <th>Color</th>\n",
       "      <th>Price</th>\n",
       "      <th>Country</th>\n",
       "    </tr>\n",
       "  </thead>\n",
       "  <tbody>\n",
       "    <tr>\n",
       "      <th>Apple</th>\n",
       "      <td>150</td>\n",
       "      <td>Red</td>\n",
       "      <td>3</td>\n",
       "      <td>USA</td>\n",
       "    </tr>\n",
       "    <tr>\n",
       "      <th>Banana</th>\n",
       "      <td>200</td>\n",
       "      <td>Yellow</td>\n",
       "      <td>2</td>\n",
       "      <td>USA</td>\n",
       "    </tr>\n",
       "    <tr>\n",
       "      <th>Cherry</th>\n",
       "      <td>50</td>\n",
       "      <td>Red</td>\n",
       "      <td>4</td>\n",
       "      <td>USA</td>\n",
       "    </tr>\n",
       "    <tr>\n",
       "      <th>Date</th>\n",
       "      <td>100</td>\n",
       "      <td>Brown</td>\n",
       "      <td>5</td>\n",
       "      <td>Canada</td>\n",
       "    </tr>\n",
       "  </tbody>\n",
       "</table>\n",
       "</div>"
      ],
      "text/plain": [
       "        Quantity   Color  Price Country\n",
       "Apple        150     Red      3     USA\n",
       "Banana       200  Yellow      2     USA\n",
       "Cherry        50     Red      4     USA\n",
       "Date         100   Brown      5  Canada"
      ]
     },
     "execution_count": 22,
     "metadata": {},
     "output_type": "execute_result"
    }
   ],
   "source": [
    "df"
   ]
  },
  {
   "cell_type": "code",
   "execution_count": 23,
   "id": "92952cc3-f59f-4e0c-ac3c-cbcea2c5f3d6",
   "metadata": {},
   "outputs": [],
   "source": [
    "df.drop('Country', axis=1, inplace=True)"
   ]
  },
  {
   "cell_type": "code",
   "execution_count": 24,
   "id": "d5e462cf-ffa2-4a9c-a755-805d2c715eb8",
   "metadata": {},
   "outputs": [
    {
     "data": {
      "text/html": [
       "<div>\n",
       "<style scoped>\n",
       "    .dataframe tbody tr th:only-of-type {\n",
       "        vertical-align: middle;\n",
       "    }\n",
       "\n",
       "    .dataframe tbody tr th {\n",
       "        vertical-align: top;\n",
       "    }\n",
       "\n",
       "    .dataframe thead th {\n",
       "        text-align: right;\n",
       "    }\n",
       "</style>\n",
       "<table border=\"1\" class=\"dataframe\">\n",
       "  <thead>\n",
       "    <tr style=\"text-align: right;\">\n",
       "      <th></th>\n",
       "      <th>Quantity</th>\n",
       "      <th>Color</th>\n",
       "      <th>Price</th>\n",
       "    </tr>\n",
       "  </thead>\n",
       "  <tbody>\n",
       "    <tr>\n",
       "      <th>Apple</th>\n",
       "      <td>150</td>\n",
       "      <td>Red</td>\n",
       "      <td>3</td>\n",
       "    </tr>\n",
       "    <tr>\n",
       "      <th>Banana</th>\n",
       "      <td>200</td>\n",
       "      <td>Yellow</td>\n",
       "      <td>2</td>\n",
       "    </tr>\n",
       "    <tr>\n",
       "      <th>Cherry</th>\n",
       "      <td>50</td>\n",
       "      <td>Red</td>\n",
       "      <td>4</td>\n",
       "    </tr>\n",
       "    <tr>\n",
       "      <th>Date</th>\n",
       "      <td>100</td>\n",
       "      <td>Brown</td>\n",
       "      <td>5</td>\n",
       "    </tr>\n",
       "  </tbody>\n",
       "</table>\n",
       "</div>"
      ],
      "text/plain": [
       "        Quantity   Color  Price\n",
       "Apple        150     Red      3\n",
       "Banana       200  Yellow      2\n",
       "Cherry        50     Red      4\n",
       "Date         100   Brown      5"
      ]
     },
     "execution_count": 24,
     "metadata": {},
     "output_type": "execute_result"
    }
   ],
   "source": [
    "df"
   ]
  },
  {
   "cell_type": "code",
   "execution_count": 25,
   "id": "06a1a25f-732e-4ba3-818d-8231dfb42834",
   "metadata": {},
   "outputs": [
    {
     "data": {
      "text/plain": [
       "Apple     300\n",
       "Banana    400\n",
       "Cherry    100\n",
       "Date      200\n",
       "Name: Quantity, dtype: int64"
      ]
     },
     "execution_count": 25,
     "metadata": {},
     "output_type": "execute_result"
    }
   ],
   "source": [
    "# changing data inside columns\n",
    "df['Quantity'] * 2"
   ]
  },
  {
   "cell_type": "code",
   "execution_count": 26,
   "id": "f6cbd187-1b84-4aa5-85fa-834160123d45",
   "metadata": {},
   "outputs": [],
   "source": [
    "df['Quantity']=  df['Quantity'] * 2"
   ]
  },
  {
   "cell_type": "code",
   "execution_count": 27,
   "id": "7ab75b0e-7e2f-4be0-bbda-28d8c3f88777",
   "metadata": {},
   "outputs": [
    {
     "data": {
      "text/html": [
       "<div>\n",
       "<style scoped>\n",
       "    .dataframe tbody tr th:only-of-type {\n",
       "        vertical-align: middle;\n",
       "    }\n",
       "\n",
       "    .dataframe tbody tr th {\n",
       "        vertical-align: top;\n",
       "    }\n",
       "\n",
       "    .dataframe thead th {\n",
       "        text-align: right;\n",
       "    }\n",
       "</style>\n",
       "<table border=\"1\" class=\"dataframe\">\n",
       "  <thead>\n",
       "    <tr style=\"text-align: right;\">\n",
       "      <th></th>\n",
       "      <th>Quantity</th>\n",
       "      <th>Color</th>\n",
       "      <th>Price</th>\n",
       "    </tr>\n",
       "  </thead>\n",
       "  <tbody>\n",
       "    <tr>\n",
       "      <th>Apple</th>\n",
       "      <td>300</td>\n",
       "      <td>Red</td>\n",
       "      <td>3</td>\n",
       "    </tr>\n",
       "    <tr>\n",
       "      <th>Banana</th>\n",
       "      <td>400</td>\n",
       "      <td>Yellow</td>\n",
       "      <td>2</td>\n",
       "    </tr>\n",
       "    <tr>\n",
       "      <th>Cherry</th>\n",
       "      <td>100</td>\n",
       "      <td>Red</td>\n",
       "      <td>4</td>\n",
       "    </tr>\n",
       "    <tr>\n",
       "      <th>Date</th>\n",
       "      <td>200</td>\n",
       "      <td>Brown</td>\n",
       "      <td>5</td>\n",
       "    </tr>\n",
       "  </tbody>\n",
       "</table>\n",
       "</div>"
      ],
      "text/plain": [
       "        Quantity   Color  Price\n",
       "Apple        300     Red      3\n",
       "Banana       400  Yellow      2\n",
       "Cherry       100     Red      4\n",
       "Date         200   Brown      5"
      ]
     },
     "execution_count": 27,
     "metadata": {},
     "output_type": "execute_result"
    }
   ],
   "source": [
    "df"
   ]
  },
  {
   "cell_type": "code",
   "execution_count": 28,
   "id": "6d1f1c0b-4df1-4f80-b300-9cdd477770a0",
   "metadata": {},
   "outputs": [
    {
     "data": {
      "text/html": [
       "<div>\n",
       "<style scoped>\n",
       "    .dataframe tbody tr th:only-of-type {\n",
       "        vertical-align: middle;\n",
       "    }\n",
       "\n",
       "    .dataframe tbody tr th {\n",
       "        vertical-align: top;\n",
       "    }\n",
       "\n",
       "    .dataframe thead th {\n",
       "        text-align: right;\n",
       "    }\n",
       "</style>\n",
       "<table border=\"1\" class=\"dataframe\">\n",
       "  <thead>\n",
       "    <tr style=\"text-align: right;\">\n",
       "      <th></th>\n",
       "      <th>Quantity</th>\n",
       "      <th>Color</th>\n",
       "      <th>Price</th>\n",
       "    </tr>\n",
       "  </thead>\n",
       "  <tbody>\n",
       "    <tr>\n",
       "      <th>Apple</th>\n",
       "      <td>False</td>\n",
       "      <td>False</td>\n",
       "      <td>False</td>\n",
       "    </tr>\n",
       "    <tr>\n",
       "      <th>Banana</th>\n",
       "      <td>False</td>\n",
       "      <td>False</td>\n",
       "      <td>False</td>\n",
       "    </tr>\n",
       "    <tr>\n",
       "      <th>Cherry</th>\n",
       "      <td>False</td>\n",
       "      <td>False</td>\n",
       "      <td>False</td>\n",
       "    </tr>\n",
       "    <tr>\n",
       "      <th>Date</th>\n",
       "      <td>False</td>\n",
       "      <td>False</td>\n",
       "      <td>False</td>\n",
       "    </tr>\n",
       "  </tbody>\n",
       "</table>\n",
       "</div>"
      ],
      "text/plain": [
       "        Quantity  Color  Price\n",
       "Apple      False  False  False\n",
       "Banana     False  False  False\n",
       "Cherry     False  False  False\n",
       "Date       False  False  False"
      ]
     },
     "execution_count": 28,
     "metadata": {},
     "output_type": "execute_result"
    }
   ],
   "source": [
    "df.isna()"
   ]
  },
  {
   "cell_type": "code",
   "execution_count": 29,
   "id": "c1eaa4f0-15bc-4ddf-85db-4ab53ad9b463",
   "metadata": {},
   "outputs": [],
   "source": [
    "df[df.iloc[0]['Color']] = np.nan"
   ]
  },
  {
   "cell_type": "code",
   "execution_count": 30,
   "id": "d97bd45a-f6b7-4127-b6ae-aaf785324b3c",
   "metadata": {},
   "outputs": [
    {
     "data": {
      "text/html": [
       "<div>\n",
       "<style scoped>\n",
       "    .dataframe tbody tr th:only-of-type {\n",
       "        vertical-align: middle;\n",
       "    }\n",
       "\n",
       "    .dataframe tbody tr th {\n",
       "        vertical-align: top;\n",
       "    }\n",
       "\n",
       "    .dataframe thead th {\n",
       "        text-align: right;\n",
       "    }\n",
       "</style>\n",
       "<table border=\"1\" class=\"dataframe\">\n",
       "  <thead>\n",
       "    <tr style=\"text-align: right;\">\n",
       "      <th></th>\n",
       "      <th>Quantity</th>\n",
       "      <th>Color</th>\n",
       "      <th>Price</th>\n",
       "      <th>Red</th>\n",
       "    </tr>\n",
       "  </thead>\n",
       "  <tbody>\n",
       "    <tr>\n",
       "      <th>Apple</th>\n",
       "      <td>300</td>\n",
       "      <td>Red</td>\n",
       "      <td>3</td>\n",
       "      <td>NaN</td>\n",
       "    </tr>\n",
       "    <tr>\n",
       "      <th>Banana</th>\n",
       "      <td>400</td>\n",
       "      <td>Yellow</td>\n",
       "      <td>2</td>\n",
       "      <td>NaN</td>\n",
       "    </tr>\n",
       "    <tr>\n",
       "      <th>Cherry</th>\n",
       "      <td>100</td>\n",
       "      <td>Red</td>\n",
       "      <td>4</td>\n",
       "      <td>NaN</td>\n",
       "    </tr>\n",
       "    <tr>\n",
       "      <th>Date</th>\n",
       "      <td>200</td>\n",
       "      <td>Brown</td>\n",
       "      <td>5</td>\n",
       "      <td>NaN</td>\n",
       "    </tr>\n",
       "  </tbody>\n",
       "</table>\n",
       "</div>"
      ],
      "text/plain": [
       "        Quantity   Color  Price  Red\n",
       "Apple        300     Red      3  NaN\n",
       "Banana       400  Yellow      2  NaN\n",
       "Cherry       100     Red      4  NaN\n",
       "Date         200   Brown      5  NaN"
      ]
     },
     "execution_count": 30,
     "metadata": {},
     "output_type": "execute_result"
    }
   ],
   "source": [
    "df"
   ]
  },
  {
   "cell_type": "code",
   "execution_count": 31,
   "id": "95606483-5fdd-4bac-b67a-12c271475adc",
   "metadata": {},
   "outputs": [],
   "source": [
    "#DATA CONVERSION\n",
    "df['Quantity'] =df['Quantity'].astype('float16')"
   ]
  },
  {
   "cell_type": "code",
   "execution_count": 32,
   "id": "f9bf4902-fe4f-4803-8874-2683f93c98b0",
   "metadata": {},
   "outputs": [
    {
     "data": {
      "text/plain": [
       "Apple     300.0\n",
       "Banana    400.0\n",
       "Cherry    100.0\n",
       "Date      200.0\n",
       "Name: Quantity, dtype: float16"
      ]
     },
     "execution_count": 32,
     "metadata": {},
     "output_type": "execute_result"
    }
   ],
   "source": [
    "df['Quantity']"
   ]
  },
  {
   "cell_type": "code",
   "execution_count": 33,
   "id": "65f14927-bef6-4d18-84ee-91f04427365c",
   "metadata": {},
   "outputs": [
    {
     "data": {
      "text/plain": [
       "Quantity    100.0\n",
       "Color       Brown\n",
       "Price           2\n",
       "Red           NaN\n",
       "dtype: object"
      ]
     },
     "execution_count": 33,
     "metadata": {},
     "output_type": "execute_result"
    }
   ],
   "source": [
    "df.min()"
   ]
  },
  {
   "cell_type": "code",
   "execution_count": 34,
   "id": "87660d09-2a6a-459f-a39b-94fa49f3b6d9",
   "metadata": {},
   "outputs": [
    {
     "data": {
      "text/plain": [
       "Quantity     400.0\n",
       "Color       Yellow\n",
       "Price            5\n",
       "Red            NaN\n",
       "dtype: object"
      ]
     },
     "execution_count": 34,
     "metadata": {},
     "output_type": "execute_result"
    }
   ],
   "source": [
    "df.max()"
   ]
  },
  {
   "cell_type": "code",
   "execution_count": 35,
   "id": "ed68ba17-b67b-402b-bd77-e34d40d4dfd3",
   "metadata": {},
   "outputs": [],
   "source": [
    "df['Score'] = [85, 63, 77, 96]"
   ]
  },
  {
   "cell_type": "code",
   "execution_count": 36,
   "id": "94b30e26-e7d1-4579-88a3-b6ed2b1e44ff",
   "metadata": {},
   "outputs": [
    {
     "data": {
      "text/html": [
       "<div>\n",
       "<style scoped>\n",
       "    .dataframe tbody tr th:only-of-type {\n",
       "        vertical-align: middle;\n",
       "    }\n",
       "\n",
       "    .dataframe tbody tr th {\n",
       "        vertical-align: top;\n",
       "    }\n",
       "\n",
       "    .dataframe thead th {\n",
       "        text-align: right;\n",
       "    }\n",
       "</style>\n",
       "<table border=\"1\" class=\"dataframe\">\n",
       "  <thead>\n",
       "    <tr style=\"text-align: right;\">\n",
       "      <th></th>\n",
       "      <th>Quantity</th>\n",
       "      <th>Color</th>\n",
       "      <th>Price</th>\n",
       "      <th>Red</th>\n",
       "      <th>Score</th>\n",
       "    </tr>\n",
       "  </thead>\n",
       "  <tbody>\n",
       "    <tr>\n",
       "      <th>Apple</th>\n",
       "      <td>300.0</td>\n",
       "      <td>Red</td>\n",
       "      <td>3</td>\n",
       "      <td>NaN</td>\n",
       "      <td>85</td>\n",
       "    </tr>\n",
       "    <tr>\n",
       "      <th>Banana</th>\n",
       "      <td>400.0</td>\n",
       "      <td>Yellow</td>\n",
       "      <td>2</td>\n",
       "      <td>NaN</td>\n",
       "      <td>63</td>\n",
       "    </tr>\n",
       "    <tr>\n",
       "      <th>Cherry</th>\n",
       "      <td>100.0</td>\n",
       "      <td>Red</td>\n",
       "      <td>4</td>\n",
       "      <td>NaN</td>\n",
       "      <td>77</td>\n",
       "    </tr>\n",
       "    <tr>\n",
       "      <th>Date</th>\n",
       "      <td>200.0</td>\n",
       "      <td>Brown</td>\n",
       "      <td>5</td>\n",
       "      <td>NaN</td>\n",
       "      <td>96</td>\n",
       "    </tr>\n",
       "  </tbody>\n",
       "</table>\n",
       "</div>"
      ],
      "text/plain": [
       "        Quantity   Color  Price  Red  Score\n",
       "Apple      300.0     Red      3  NaN     85\n",
       "Banana     400.0  Yellow      2  NaN     63\n",
       "Cherry     100.0     Red      4  NaN     77\n",
       "Date       200.0   Brown      5  NaN     96"
      ]
     },
     "execution_count": 36,
     "metadata": {},
     "output_type": "execute_result"
    }
   ],
   "source": [
    "df"
   ]
  },
  {
   "cell_type": "code",
   "execution_count": 37,
   "id": "0ec25678-a940-49c3-bf50-b0aae201b0a0",
   "metadata": {},
   "outputs": [],
   "source": [
    "df.drop('Score', axis=1,inplace = True)"
   ]
  },
  {
   "cell_type": "code",
   "execution_count": 38,
   "id": "a7516d7e-0a7f-4a27-9b11-00ff0704f73a",
   "metadata": {},
   "outputs": [
    {
     "data": {
      "text/html": [
       "<div>\n",
       "<style scoped>\n",
       "    .dataframe tbody tr th:only-of-type {\n",
       "        vertical-align: middle;\n",
       "    }\n",
       "\n",
       "    .dataframe tbody tr th {\n",
       "        vertical-align: top;\n",
       "    }\n",
       "\n",
       "    .dataframe thead th {\n",
       "        text-align: right;\n",
       "    }\n",
       "</style>\n",
       "<table border=\"1\" class=\"dataframe\">\n",
       "  <thead>\n",
       "    <tr style=\"text-align: right;\">\n",
       "      <th></th>\n",
       "      <th>Quantity</th>\n",
       "      <th>Color</th>\n",
       "      <th>Price</th>\n",
       "      <th>Red</th>\n",
       "    </tr>\n",
       "  </thead>\n",
       "  <tbody>\n",
       "    <tr>\n",
       "      <th>Apple</th>\n",
       "      <td>300.0</td>\n",
       "      <td>Red</td>\n",
       "      <td>3</td>\n",
       "      <td>NaN</td>\n",
       "    </tr>\n",
       "    <tr>\n",
       "      <th>Banana</th>\n",
       "      <td>400.0</td>\n",
       "      <td>Yellow</td>\n",
       "      <td>2</td>\n",
       "      <td>NaN</td>\n",
       "    </tr>\n",
       "    <tr>\n",
       "      <th>Cherry</th>\n",
       "      <td>100.0</td>\n",
       "      <td>Red</td>\n",
       "      <td>4</td>\n",
       "      <td>NaN</td>\n",
       "    </tr>\n",
       "    <tr>\n",
       "      <th>Date</th>\n",
       "      <td>200.0</td>\n",
       "      <td>Brown</td>\n",
       "      <td>5</td>\n",
       "      <td>NaN</td>\n",
       "    </tr>\n",
       "  </tbody>\n",
       "</table>\n",
       "</div>"
      ],
      "text/plain": [
       "        Quantity   Color  Price  Red\n",
       "Apple      300.0     Red      3  NaN\n",
       "Banana     400.0  Yellow      2  NaN\n",
       "Cherry     100.0     Red      4  NaN\n",
       "Date       200.0   Brown      5  NaN"
      ]
     },
     "execution_count": 38,
     "metadata": {},
     "output_type": "execute_result"
    }
   ],
   "source": [
    "df"
   ]
  },
  {
   "cell_type": "code",
   "execution_count": 39,
   "id": "2b78dbcf-a2f1-4914-9abd-21894d3ecfe0",
   "metadata": {},
   "outputs": [],
   "source": [
    "df.drop('Red', axis=1,inplace = True)"
   ]
  },
  {
   "cell_type": "code",
   "execution_count": 40,
   "id": "6eae9a91-c0a2-4610-a746-7c86bf67ac93",
   "metadata": {},
   "outputs": [
    {
     "data": {
      "text/html": [
       "<div>\n",
       "<style scoped>\n",
       "    .dataframe tbody tr th:only-of-type {\n",
       "        vertical-align: middle;\n",
       "    }\n",
       "\n",
       "    .dataframe tbody tr th {\n",
       "        vertical-align: top;\n",
       "    }\n",
       "\n",
       "    .dataframe thead th {\n",
       "        text-align: right;\n",
       "    }\n",
       "</style>\n",
       "<table border=\"1\" class=\"dataframe\">\n",
       "  <thead>\n",
       "    <tr style=\"text-align: right;\">\n",
       "      <th></th>\n",
       "      <th>Quantity</th>\n",
       "      <th>Color</th>\n",
       "      <th>Price</th>\n",
       "    </tr>\n",
       "  </thead>\n",
       "  <tbody>\n",
       "    <tr>\n",
       "      <th>Apple</th>\n",
       "      <td>300.0</td>\n",
       "      <td>Red</td>\n",
       "      <td>3</td>\n",
       "    </tr>\n",
       "    <tr>\n",
       "      <th>Banana</th>\n",
       "      <td>400.0</td>\n",
       "      <td>Yellow</td>\n",
       "      <td>2</td>\n",
       "    </tr>\n",
       "    <tr>\n",
       "      <th>Cherry</th>\n",
       "      <td>100.0</td>\n",
       "      <td>Red</td>\n",
       "      <td>4</td>\n",
       "    </tr>\n",
       "    <tr>\n",
       "      <th>Date</th>\n",
       "      <td>200.0</td>\n",
       "      <td>Brown</td>\n",
       "      <td>5</td>\n",
       "    </tr>\n",
       "  </tbody>\n",
       "</table>\n",
       "</div>"
      ],
      "text/plain": [
       "        Quantity   Color  Price\n",
       "Apple      300.0     Red      3\n",
       "Banana     400.0  Yellow      2\n",
       "Cherry     100.0     Red      4\n",
       "Date       200.0   Brown      5"
      ]
     },
     "execution_count": 40,
     "metadata": {},
     "output_type": "execute_result"
    }
   ],
   "source": [
    "df"
   ]
  },
  {
   "cell_type": "code",
   "execution_count": 41,
   "id": "03882c55-d5b5-41c0-98e2-9beca8d0b684",
   "metadata": {},
   "outputs": [
    {
     "data": {
      "text/plain": [
       "1000.0"
      ]
     },
     "execution_count": 41,
     "metadata": {},
     "output_type": "execute_result"
    }
   ],
   "source": [
    "df['Quantity'].sum()"
   ]
  },
  {
   "cell_type": "code",
   "execution_count": 42,
   "id": "2d566736-262b-4fd1-9d5d-1c46bef91e68",
   "metadata": {},
   "outputs": [
    {
     "data": {
      "text/html": [
       "<div>\n",
       "<style scoped>\n",
       "    .dataframe tbody tr th:only-of-type {\n",
       "        vertical-align: middle;\n",
       "    }\n",
       "\n",
       "    .dataframe tbody tr th {\n",
       "        vertical-align: top;\n",
       "    }\n",
       "\n",
       "    .dataframe thead th {\n",
       "        text-align: right;\n",
       "    }\n",
       "</style>\n",
       "<table border=\"1\" class=\"dataframe\">\n",
       "  <thead>\n",
       "    <tr style=\"text-align: right;\">\n",
       "      <th></th>\n",
       "      <th>Quantity</th>\n",
       "      <th>Color</th>\n",
       "      <th>Price</th>\n",
       "    </tr>\n",
       "  </thead>\n",
       "  <tbody>\n",
       "    <tr>\n",
       "      <th>Date</th>\n",
       "      <td>200.0</td>\n",
       "      <td>Brown</td>\n",
       "      <td>5</td>\n",
       "    </tr>\n",
       "    <tr>\n",
       "      <th>Cherry</th>\n",
       "      <td>100.0</td>\n",
       "      <td>Red</td>\n",
       "      <td>4</td>\n",
       "    </tr>\n",
       "    <tr>\n",
       "      <th>Apple</th>\n",
       "      <td>300.0</td>\n",
       "      <td>Red</td>\n",
       "      <td>3</td>\n",
       "    </tr>\n",
       "  </tbody>\n",
       "</table>\n",
       "</div>"
      ],
      "text/plain": [
       "        Quantity  Color  Price\n",
       "Date       200.0  Brown      5\n",
       "Cherry     100.0    Red      4\n",
       "Apple      300.0    Red      3"
      ]
     },
     "execution_count": 42,
     "metadata": {},
     "output_type": "execute_result"
    }
   ],
   "source": [
    "df.nlargest(3,'Price')"
   ]
  },
  {
   "cell_type": "code",
   "execution_count": 43,
   "id": "369f3d4c-9271-4223-88ad-ca56ba32caf4",
   "metadata": {},
   "outputs": [
    {
     "data": {
      "text/plain": [
       "Quantity     400.0\n",
       "Color       Yellow\n",
       "Price            2\n",
       "Name: Banana, dtype: object"
      ]
     },
     "execution_count": 43,
     "metadata": {},
     "output_type": "execute_result"
    }
   ],
   "source": [
    "df.loc['Banana']"
   ]
  },
  {
   "cell_type": "code",
   "execution_count": 44,
   "id": "3a949196-556c-4ae3-95fe-c0e8348fee8d",
   "metadata": {},
   "outputs": [
    {
     "data": {
      "text/plain": [
       "Quantity     400.0\n",
       "Color       Yellow\n",
       "Price            2\n",
       "Name: Banana, dtype: object"
      ]
     },
     "execution_count": 44,
     "metadata": {},
     "output_type": "execute_result"
    }
   ],
   "source": [
    "df.iloc[1]"
   ]
  },
  {
   "cell_type": "code",
   "execution_count": 45,
   "id": "8c669e7e-ab48-4ea6-9de3-1f8338f9cbcf",
   "metadata": {},
   "outputs": [],
   "source": [
    "df['Sale_Price'] = df['Price'] * 0.9"
   ]
  },
  {
   "cell_type": "code",
   "execution_count": 46,
   "id": "045f8c64-0648-4145-bc2c-493db9a76b1a",
   "metadata": {},
   "outputs": [],
   "source": [
    "df.rename(columns={'Price': 'Original_Price'}, inplace=True)\n",
    "\n",
    "df.drop(columns=['Color'], inplace=True)\n"
   ]
  },
  {
   "cell_type": "code",
   "execution_count": 51,
   "id": "20f715f1-0a65-4206-b778-8ab19bd337b8",
   "metadata": {},
   "outputs": [
    {
     "data": {
      "text/html": [
       "<div>\n",
       "<style scoped>\n",
       "    .dataframe tbody tr th:only-of-type {\n",
       "        vertical-align: middle;\n",
       "    }\n",
       "\n",
       "    .dataframe tbody tr th {\n",
       "        vertical-align: top;\n",
       "    }\n",
       "\n",
       "    .dataframe thead th {\n",
       "        text-align: right;\n",
       "    }\n",
       "</style>\n",
       "<table border=\"1\" class=\"dataframe\">\n",
       "  <thead>\n",
       "    <tr style=\"text-align: right;\">\n",
       "      <th></th>\n",
       "      <th>Quantity</th>\n",
       "      <th>Original_Price</th>\n",
       "      <th>Sale_Price</th>\n",
       "    </tr>\n",
       "  </thead>\n",
       "  <tbody>\n",
       "    <tr>\n",
       "      <th>Apple</th>\n",
       "      <td>300.0</td>\n",
       "      <td>3</td>\n",
       "      <td>2.7</td>\n",
       "    </tr>\n",
       "    <tr>\n",
       "      <th>Banana</th>\n",
       "      <td>400.0</td>\n",
       "      <td>2</td>\n",
       "      <td>1.8</td>\n",
       "    </tr>\n",
       "    <tr>\n",
       "      <th>Cherry</th>\n",
       "      <td>100.0</td>\n",
       "      <td>4</td>\n",
       "      <td>3.6</td>\n",
       "    </tr>\n",
       "    <tr>\n",
       "      <th>Date</th>\n",
       "      <td>200.0</td>\n",
       "      <td>5</td>\n",
       "      <td>4.5</td>\n",
       "    </tr>\n",
       "  </tbody>\n",
       "</table>\n",
       "</div>"
      ],
      "text/plain": [
       "        Quantity  Original_Price  Sale_Price\n",
       "Apple      300.0               3         2.7\n",
       "Banana     400.0               2         1.8\n",
       "Cherry     100.0               4         3.6\n",
       "Date       200.0               5         4.5"
      ]
     },
     "execution_count": 51,
     "metadata": {},
     "output_type": "execute_result"
    }
   ],
   "source": [
    "df"
   ]
  },
  {
   "cell_type": "code",
   "execution_count": 54,
   "id": "56f3db8a-24bc-42c5-9c42-d0a2f973f0fa",
   "metadata": {},
   "outputs": [],
   "source": [
    "new_data = pd.DataFrame({\"Fruit\": [\"Grapes\"], \"Quantity\": [np.nan], \"Original_Price\": [3.5], \"Sale_Price\": [3.5 * 0.9]})"
   ]
  },
  {
   "cell_type": "code",
   "execution_count": 55,
   "id": "b1227510-f533-4b03-8b5f-c100f4a0e52f",
   "metadata": {},
   "outputs": [],
   "source": [
    "new_data.set_index('Fruit',inplace=True)"
   ]
  },
  {
   "cell_type": "code",
   "execution_count": 56,
   "id": "3476c8a0-858f-48dc-aeeb-d61cc90c4102",
   "metadata": {},
   "outputs": [],
   "source": [
    "df = pd.concat([df, new_data]) # pd.concat adds a new row"
   ]
  },
  {
   "cell_type": "code",
   "execution_count": 57,
   "id": "006d03b9-82b2-4178-8d4f-a9fad233a492",
   "metadata": {},
   "outputs": [
    {
     "data": {
      "text/html": [
       "<div>\n",
       "<style scoped>\n",
       "    .dataframe tbody tr th:only-of-type {\n",
       "        vertical-align: middle;\n",
       "    }\n",
       "\n",
       "    .dataframe tbody tr th {\n",
       "        vertical-align: top;\n",
       "    }\n",
       "\n",
       "    .dataframe thead th {\n",
       "        text-align: right;\n",
       "    }\n",
       "</style>\n",
       "<table border=\"1\" class=\"dataframe\">\n",
       "  <thead>\n",
       "    <tr style=\"text-align: right;\">\n",
       "      <th></th>\n",
       "      <th>Quantity</th>\n",
       "      <th>Original_Price</th>\n",
       "      <th>Sale_Price</th>\n",
       "    </tr>\n",
       "  </thead>\n",
       "  <tbody>\n",
       "    <tr>\n",
       "      <th>Apple</th>\n",
       "      <td>300.0</td>\n",
       "      <td>3.0</td>\n",
       "      <td>2.70</td>\n",
       "    </tr>\n",
       "    <tr>\n",
       "      <th>Banana</th>\n",
       "      <td>400.0</td>\n",
       "      <td>2.0</td>\n",
       "      <td>1.80</td>\n",
       "    </tr>\n",
       "    <tr>\n",
       "      <th>Cherry</th>\n",
       "      <td>100.0</td>\n",
       "      <td>4.0</td>\n",
       "      <td>3.60</td>\n",
       "    </tr>\n",
       "    <tr>\n",
       "      <th>Date</th>\n",
       "      <td>200.0</td>\n",
       "      <td>5.0</td>\n",
       "      <td>4.50</td>\n",
       "    </tr>\n",
       "    <tr>\n",
       "      <th>Grapes</th>\n",
       "      <td>NaN</td>\n",
       "      <td>3.5</td>\n",
       "      <td>3.15</td>\n",
       "    </tr>\n",
       "  </tbody>\n",
       "</table>\n",
       "</div>"
      ],
      "text/plain": [
       "        Quantity  Original_Price  Sale_Price\n",
       "Apple      300.0             3.0        2.70\n",
       "Banana     400.0             2.0        1.80\n",
       "Cherry     100.0             4.0        3.60\n",
       "Date       200.0             5.0        4.50\n",
       "Grapes       NaN             3.5        3.15"
      ]
     },
     "execution_count": 57,
     "metadata": {},
     "output_type": "execute_result"
    }
   ],
   "source": [
    "df"
   ]
  },
  {
   "cell_type": "code",
   "execution_count": 58,
   "id": "d9d2070a-0c66-4e2b-8a1f-35bd043cd3b1",
   "metadata": {},
   "outputs": [
    {
     "data": {
      "text/plain": [
       "dtype('float16')"
      ]
     },
     "execution_count": 58,
     "metadata": {},
     "output_type": "execute_result"
    }
   ],
   "source": [
    "df['Quantity'].dtype"
   ]
  },
  {
   "cell_type": "code",
   "execution_count": 63,
   "id": "a94c1b83-0060-4093-b7fa-9975a0751fd4",
   "metadata": {},
   "outputs": [],
   "source": [
    "# df['Quantity'] = df['Quantity'].astype(int) if there are not NAN"
   ]
  },
  {
   "cell_type": "code",
   "execution_count": 64,
   "id": "14694247-81d5-4c18-b964-5f0dac181eb1",
   "metadata": {},
   "outputs": [
    {
     "data": {
      "text/plain": [
       "1000.0"
      ]
     },
     "execution_count": 64,
     "metadata": {},
     "output_type": "execute_result"
    }
   ],
   "source": [
    "df['Quantity'].sum()"
   ]
  },
  {
   "cell_type": "code",
   "execution_count": 66,
   "id": "b59be7e2-e0f6-4606-a70c-72f7175060a4",
   "metadata": {},
   "outputs": [
    {
     "data": {
      "text/html": [
       "<div>\n",
       "<style scoped>\n",
       "    .dataframe tbody tr th:only-of-type {\n",
       "        vertical-align: middle;\n",
       "    }\n",
       "\n",
       "    .dataframe tbody tr th {\n",
       "        vertical-align: top;\n",
       "    }\n",
       "\n",
       "    .dataframe thead th {\n",
       "        text-align: right;\n",
       "    }\n",
       "</style>\n",
       "<table border=\"1\" class=\"dataframe\">\n",
       "  <thead>\n",
       "    <tr style=\"text-align: right;\">\n",
       "      <th></th>\n",
       "      <th>Quantity</th>\n",
       "      <th>Original_Price</th>\n",
       "      <th>Sale_Price</th>\n",
       "    </tr>\n",
       "  </thead>\n",
       "  <tbody>\n",
       "    <tr>\n",
       "      <th>Date</th>\n",
       "      <td>200.0</td>\n",
       "      <td>5.0</td>\n",
       "      <td>4.5</td>\n",
       "    </tr>\n",
       "  </tbody>\n",
       "</table>\n",
       "</div>"
      ],
      "text/plain": [
       "      Quantity  Original_Price  Sale_Price\n",
       "Date     200.0             5.0         4.5"
      ]
     },
     "execution_count": 66,
     "metadata": {},
     "output_type": "execute_result"
    }
   ],
   "source": [
    "df.nlargest(1,'Original_Price')"
   ]
  },
  {
   "cell_type": "code",
   "execution_count": 67,
   "id": "67e2aa6a-9573-4940-99bb-74b0018543a4",
   "metadata": {},
   "outputs": [
    {
     "data": {
      "text/plain": [
       "'Cherry'"
      ]
     },
     "execution_count": 67,
     "metadata": {},
     "output_type": "execute_result"
    }
   ],
   "source": [
    "df['Quantity'].idxmin()"
   ]
  },
  {
   "cell_type": "code",
   "execution_count": 68,
   "id": "76a27afd-e1d9-46cf-bcca-aa28d0cf5b55",
   "metadata": {},
   "outputs": [
    {
     "data": {
      "text/plain": [
       "'Banana'"
      ]
     },
     "execution_count": 68,
     "metadata": {},
     "output_type": "execute_result"
    }
   ],
   "source": [
    "df['Quantity'].idxmax()"
   ]
  },
  {
   "cell_type": "code",
   "execution_count": null,
   "id": "daeb5ce0-f732-4749-89cb-ef51d0906548",
   "metadata": {},
   "outputs": [],
   "source": []
  }
 ],
 "metadata": {
  "kernelspec": {
   "display_name": "Python 3 (ipykernel)",
   "language": "python",
   "name": "python3"
  },
  "language_info": {
   "codemirror_mode": {
    "name": "ipython",
    "version": 3
   },
   "file_extension": ".py",
   "mimetype": "text/x-python",
   "name": "python",
   "nbconvert_exporter": "python",
   "pygments_lexer": "ipython3",
   "version": "3.11.3"
  }
 },
 "nbformat": 4,
 "nbformat_minor": 5
}
