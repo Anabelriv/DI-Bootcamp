{
 "cells": [
  {
   "cell_type": "markdown",
   "id": "77776e26-478e-41f0-81c5-0eea5a2f9e7c",
   "metadata": {},
   "source": [
    "## Intro"
   ]
  },
  {
   "cell_type": "code",
   "execution_count": 3,
   "id": "0e63f2d6-43bd-436e-99da-fe48b3d85f05",
   "metadata": {},
   "outputs": [],
   "source": [
    "import numpy as np # numerical python"
   ]
  },
  {
   "cell_type": "code",
   "execution_count": 4,
   "id": "0a33b92d-a867-4de9-86b5-0090e7a7414a",
   "metadata": {},
   "outputs": [],
   "source": [
    "array = np.array([1,2,3,4,5]) # numpy array"
   ]
  },
  {
   "cell_type": "code",
   "execution_count": 5,
   "id": "b76947bc-321d-4ff9-a8c0-502a465660c5",
   "metadata": {},
   "outputs": [
    {
     "data": {
      "text/plain": [
       "array([1, 2, 3, 4, 5])"
      ]
     },
     "execution_count": 5,
     "metadata": {},
     "output_type": "execute_result"
    }
   ],
   "source": [
    "array"
   ]
  },
  {
   "cell_type": "code",
   "execution_count": 6,
   "id": "1115da22-ed05-48b5-9890-ac304afb204d",
   "metadata": {},
   "outputs": [],
   "source": [
    "array2 = np.array([1,2,3,4,5])"
   ]
  },
  {
   "cell_type": "code",
   "execution_count": 7,
   "id": "3bdb7aea-6cbd-4338-9b6e-35ebe5cd7fcb",
   "metadata": {},
   "outputs": [
    {
     "data": {
      "text/plain": [
       "array([ 1,  4,  9, 16, 25])"
      ]
     },
     "execution_count": 7,
     "metadata": {},
     "output_type": "execute_result"
    }
   ],
   "source": [
    "array * array2"
   ]
  },
  {
   "cell_type": "markdown",
   "id": "fe1158c8-aefe-4319-8337-e1a2a9910771",
   "metadata": {},
   "source": [
    "## Numpy array attributes"
   ]
  },
  {
   "cell_type": "code",
   "execution_count": 9,
   "id": "13bfd31c-f765-4673-b4dd-bef7a7e4de39",
   "metadata": {},
   "outputs": [
    {
     "data": {
      "text/plain": [
       "1"
      ]
     },
     "execution_count": 9,
     "metadata": {},
     "output_type": "execute_result"
    }
   ],
   "source": [
    "array.ndim # number of dimensions"
   ]
  },
  {
   "cell_type": "code",
   "execution_count": 10,
   "id": "495e303d-acce-44b1-bd59-772b55058e8a",
   "metadata": {},
   "outputs": [],
   "source": [
    "two_dim_array = np.array([[1,2,3,4,5], [1,2,3,4,5], [1,2,3,4,5]])"
   ]
  },
  {
   "cell_type": "code",
   "execution_count": 11,
   "id": "375a5d4f-23f8-415d-bc1f-d12ee041abc3",
   "metadata": {},
   "outputs": [
    {
     "data": {
      "text/plain": [
       "array([[1, 2, 3, 4, 5],\n",
       "       [1, 2, 3, 4, 5],\n",
       "       [1, 2, 3, 4, 5]])"
      ]
     },
     "execution_count": 11,
     "metadata": {},
     "output_type": "execute_result"
    }
   ],
   "source": [
    "two_dim_array"
   ]
  },
  {
   "cell_type": "code",
   "execution_count": 12,
   "id": "8ddad6fc-4d6d-4660-9d94-f9021a936898",
   "metadata": {},
   "outputs": [
    {
     "data": {
      "text/plain": [
       "2"
      ]
     },
     "execution_count": 12,
     "metadata": {},
     "output_type": "execute_result"
    }
   ],
   "source": [
    "two_dim_array.ndim"
   ]
  },
  {
   "cell_type": "code",
   "execution_count": 13,
   "id": "4916e95e-b395-4b6f-a82c-526f98d64259",
   "metadata": {},
   "outputs": [
    {
     "data": {
      "text/plain": [
       "(5,)"
      ]
     },
     "execution_count": 13,
     "metadata": {},
     "output_type": "execute_result"
    }
   ],
   "source": [
    "# shape - amount of rows/columns wrc.\n",
    "array.shape"
   ]
  },
  {
   "cell_type": "code",
   "execution_count": 14,
   "id": "f09747b8-1a66-44b1-94ec-7e871ac53360",
   "metadata": {},
   "outputs": [
    {
     "data": {
      "text/plain": [
       "(3, 5)"
      ]
     },
     "execution_count": 14,
     "metadata": {},
     "output_type": "execute_result"
    }
   ],
   "source": [
    "two_dim_array.shape"
   ]
  },
  {
   "cell_type": "code",
   "execution_count": 15,
   "id": "f34fdceb-8241-4a60-a032-841aecc833c9",
   "metadata": {},
   "outputs": [
    {
     "data": {
      "text/plain": [
       "15"
      ]
     },
     "execution_count": 15,
     "metadata": {},
     "output_type": "execute_result"
    }
   ],
   "source": [
    "# size \n",
    "two_dim_array.size"
   ]
  },
  {
   "cell_type": "code",
   "execution_count": 16,
   "id": "d45eb2d9-f92b-45b7-9529-3e1d9ca553e1",
   "metadata": {},
   "outputs": [
    {
     "data": {
      "text/plain": [
       "dtype('int64')"
      ]
     },
     "execution_count": 16,
     "metadata": {},
     "output_type": "execute_result"
    }
   ],
   "source": [
    "# data type \n",
    "two_dim_array.dtype"
   ]
  },
  {
   "cell_type": "markdown",
   "id": "20c1b606-1ad0-4263-b1c8-d98deec38e02",
   "metadata": {},
   "source": [
    "### convert array to different type"
   ]
  },
  {
   "cell_type": "code",
   "execution_count": 17,
   "id": "3757ecaa-52be-4d95-ba34-6975cd55ba21",
   "metadata": {},
   "outputs": [],
   "source": [
    "float_array = array.astype('float16')"
   ]
  },
  {
   "cell_type": "code",
   "execution_count": 18,
   "id": "c92dece8-b562-4755-9c47-edb80f5c8ce1",
   "metadata": {},
   "outputs": [
    {
     "data": {
      "text/plain": [
       "dtype('float16')"
      ]
     },
     "execution_count": 18,
     "metadata": {},
     "output_type": "execute_result"
    }
   ],
   "source": [
    "float_array.dtype"
   ]
  },
  {
   "cell_type": "code",
   "execution_count": 19,
   "id": "8c1efe03-bc5f-4b3d-9677-7ff36672307f",
   "metadata": {},
   "outputs": [
    {
     "data": {
      "text/plain": [
       "array([1., 2., 3., 4., 5.], dtype=float16)"
      ]
     },
     "execution_count": 19,
     "metadata": {},
     "output_type": "execute_result"
    }
   ],
   "source": [
    "float_array"
   ]
  },
  {
   "cell_type": "code",
   "execution_count": 20,
   "id": "ddd09f34-1e61-47a8-ab63-5af7dd7d8971",
   "metadata": {},
   "outputs": [],
   "source": [
    "my_array = np.arange(1,10)"
   ]
  },
  {
   "cell_type": "code",
   "execution_count": 21,
   "id": "f259e638-a46c-4c6b-85c3-d571ca80c0d2",
   "metadata": {},
   "outputs": [
    {
     "data": {
      "text/plain": [
       "array([1, 2, 3, 4, 5, 6, 7, 8, 9])"
      ]
     },
     "execution_count": 21,
     "metadata": {},
     "output_type": "execute_result"
    }
   ],
   "source": [
    "my_array"
   ]
  },
  {
   "cell_type": "code",
   "execution_count": 22,
   "id": "b77790b6-0d86-4fc2-b616-43c386556868",
   "metadata": {},
   "outputs": [],
   "source": [
    "new_array = np.arange(10,21)"
   ]
  },
  {
   "cell_type": "code",
   "execution_count": 23,
   "id": "4b3356d1-09ab-45db-8155-f387620fd4de",
   "metadata": {},
   "outputs": [
    {
     "data": {
      "text/plain": [
       "array([10, 11, 12, 13, 14, 15, 16, 17, 18, 19, 20])"
      ]
     },
     "execution_count": 23,
     "metadata": {},
     "output_type": "execute_result"
    }
   ],
   "source": [
    "new_array"
   ]
  },
  {
   "cell_type": "code",
   "execution_count": 24,
   "id": "c2079928-dcc6-41a3-b7eb-1ccf78b6ca13",
   "metadata": {},
   "outputs": [
    {
     "data": {
      "text/plain": [
       "1"
      ]
     },
     "execution_count": 24,
     "metadata": {},
     "output_type": "execute_result"
    }
   ],
   "source": [
    "new_array.ndim"
   ]
  },
  {
   "cell_type": "code",
   "execution_count": 25,
   "id": "1628b2aa-fe9f-4d1c-b4b4-012188febd38",
   "metadata": {},
   "outputs": [
    {
     "data": {
      "text/plain": [
       "(11,)"
      ]
     },
     "execution_count": 25,
     "metadata": {},
     "output_type": "execute_result"
    }
   ],
   "source": [
    "new_array.shape"
   ]
  },
  {
   "cell_type": "code",
   "execution_count": 26,
   "id": "b6f3d4bc-25bf-4aef-ab8c-c7872a4f01be",
   "metadata": {},
   "outputs": [
    {
     "data": {
      "text/plain": [
       "11"
      ]
     },
     "execution_count": 26,
     "metadata": {},
     "output_type": "execute_result"
    }
   ],
   "source": [
    "new_array.size"
   ]
  },
  {
   "cell_type": "code",
   "execution_count": 27,
   "id": "05c1e970-7e39-49cf-9813-d7930f9222d6",
   "metadata": {},
   "outputs": [
    {
     "data": {
      "text/plain": [
       "dtype('int64')"
      ]
     },
     "execution_count": 27,
     "metadata": {},
     "output_type": "execute_result"
    }
   ],
   "source": [
    "new_array.dtype"
   ]
  },
  {
   "cell_type": "code",
   "execution_count": 28,
   "id": "3f7495cd-44fb-4318-b201-35b549add35a",
   "metadata": {},
   "outputs": [],
   "source": [
    "change_array = new_array.astype('float16')"
   ]
  },
  {
   "cell_type": "code",
   "execution_count": 29,
   "id": "8f782f5f-e670-4582-8650-652ceee6b59d",
   "metadata": {},
   "outputs": [
    {
     "data": {
      "text/plain": [
       "dtype('float16')"
      ]
     },
     "execution_count": 29,
     "metadata": {},
     "output_type": "execute_result"
    }
   ],
   "source": [
    "change_array.dtype"
   ]
  },
  {
   "cell_type": "code",
   "execution_count": 30,
   "id": "4917bc43-b1c2-4f28-a7f3-cffab1463caa",
   "metadata": {},
   "outputs": [
    {
     "data": {
      "text/plain": [
       "array([10., 11., 12., 13., 14., 15., 16., 17., 18., 19., 20.],\n",
       "      dtype=float16)"
      ]
     },
     "execution_count": 30,
     "metadata": {},
     "output_type": "execute_result"
    }
   ],
   "source": [
    "change_array"
   ]
  },
  {
   "cell_type": "code",
   "execution_count": 31,
   "id": "f6a5d988-dd2c-4b01-8e85-99c80dd45f06",
   "metadata": {},
   "outputs": [
    {
     "data": {
      "text/plain": [
       "11"
      ]
     },
     "execution_count": 31,
     "metadata": {},
     "output_type": "execute_result"
    }
   ],
   "source": [
    "change_array.size"
   ]
  },
  {
   "cell_type": "code",
   "execution_count": 32,
   "id": "dc58ab1b-104d-4233-b845-ca7a226858a5",
   "metadata": {},
   "outputs": [
    {
     "data": {
      "text/plain": [
       "array([20, 22, 24, 26, 28, 30, 32, 34, 36, 38, 40])"
      ]
     },
     "execution_count": 32,
     "metadata": {},
     "output_type": "execute_result"
    }
   ],
   "source": [
    "new_array * 2"
   ]
  },
  {
   "cell_type": "markdown",
   "id": "0df42bf3-3628-46e0-9d0d-87388bd9279b",
   "metadata": {},
   "source": [
    "## One dimensional indexing"
   ]
  },
  {
   "cell_type": "code",
   "execution_count": 33,
   "id": "0e65b504-31a3-4bab-af8e-d4369e860431",
   "metadata": {},
   "outputs": [],
   "source": [
    "one_dim_array = np.arange(11)"
   ]
  },
  {
   "cell_type": "code",
   "execution_count": 34,
   "id": "ad614d71-0deb-4dd5-af21-f1f985f9910b",
   "metadata": {},
   "outputs": [
    {
     "data": {
      "text/plain": [
       "array([ 0,  1,  2,  3,  4,  5,  6,  7,  8,  9, 10])"
      ]
     },
     "execution_count": 34,
     "metadata": {},
     "output_type": "execute_result"
    }
   ],
   "source": [
    "one_dim_array"
   ]
  },
  {
   "cell_type": "code",
   "execution_count": 36,
   "id": "e5b99f41-353f-49b3-b690-03978f2370c8",
   "metadata": {},
   "outputs": [
    {
     "data": {
      "text/plain": [
       "0"
      ]
     },
     "execution_count": 36,
     "metadata": {},
     "output_type": "execute_result"
    }
   ],
   "source": [
    "one_dim_array[0]"
   ]
  },
  {
   "cell_type": "code",
   "execution_count": 39,
   "id": "dc993094-ff9c-4933-abef-ccfe19b7da07",
   "metadata": {},
   "outputs": [
    {
     "data": {
      "text/plain": [
       "array([ 2,  4,  6,  8, 10])"
      ]
     },
     "execution_count": 39,
     "metadata": {},
     "output_type": "execute_result"
    }
   ],
   "source": [
    "one_dim_array[2::2]"
   ]
  },
  {
   "cell_type": "markdown",
   "id": "0c40fbae-04f7-4851-a53f-22fec338645e",
   "metadata": {},
   "source": [
    "## Two dimensional indexing"
   ]
  },
  {
   "cell_type": "code",
   "execution_count": 40,
   "id": "2f51e217-581d-4351-96f7-5f0d7178875d",
   "metadata": {},
   "outputs": [],
   "source": [
    "two_dim_array = np.arange(10)"
   ]
  },
  {
   "cell_type": "code",
   "execution_count": 43,
   "id": "649863f3-d5f8-4357-8a72-793f1b49e6b3",
   "metadata": {},
   "outputs": [
    {
     "data": {
      "text/plain": [
       "array([0, 1, 2, 3, 4, 5, 6, 7, 8, 9])"
      ]
     },
     "execution_count": 43,
     "metadata": {},
     "output_type": "execute_result"
    }
   ],
   "source": [
    "two_dim_array # 2,5"
   ]
  },
  {
   "cell_type": "code",
   "execution_count": 42,
   "id": "e4dfeb2d-ad33-4139-be10-f7a326aaa00c",
   "metadata": {},
   "outputs": [
    {
     "data": {
      "text/plain": [
       "10"
      ]
     },
     "execution_count": 42,
     "metadata": {},
     "output_type": "execute_result"
    }
   ],
   "source": [
    "two_dim_array.size"
   ]
  },
  {
   "cell_type": "code",
   "execution_count": 47,
   "id": "942580f8-7c00-426b-bda6-91fbe4ca07a4",
   "metadata": {},
   "outputs": [],
   "source": [
    "two_dim_array = two_dim_array.reshape((5,2))"
   ]
  },
  {
   "cell_type": "code",
   "execution_count": 48,
   "id": "d80ec48c-f879-4366-b26e-7f20aa45b095",
   "metadata": {},
   "outputs": [
    {
     "data": {
      "text/plain": [
       "array([2, 3])"
      ]
     },
     "execution_count": 48,
     "metadata": {},
     "output_type": "execute_result"
    }
   ],
   "source": [
    "two_dim_array[1]"
   ]
  },
  {
   "cell_type": "code",
   "execution_count": 49,
   "id": "f9db5093-d701-40a4-9f56-a9115098170f",
   "metadata": {},
   "outputs": [
    {
     "data": {
      "text/plain": [
       "array([[2, 3],\n",
       "       [4, 5]])"
      ]
     },
     "execution_count": 49,
     "metadata": {},
     "output_type": "execute_result"
    }
   ],
   "source": [
    "two_dim_array[1:3]"
   ]
  },
  {
   "cell_type": "code",
   "execution_count": 50,
   "id": "bca22271-6d0f-43b6-b001-164a0f0fbf38",
   "metadata": {},
   "outputs": [
    {
     "data": {
      "text/plain": [
       "array([2, 4])"
      ]
     },
     "execution_count": 50,
     "metadata": {},
     "output_type": "execute_result"
    }
   ],
   "source": [
    "two_dim_array[1:3, 0]"
   ]
  },
  {
   "cell_type": "code",
   "execution_count": 51,
   "id": "204486b2-21ff-4fc1-bb4c-9e0728543536",
   "metadata": {},
   "outputs": [
    {
     "data": {
      "text/plain": [
       "array([[8, 9],\n",
       "       [6, 7],\n",
       "       [4, 5],\n",
       "       [2, 3],\n",
       "       [0, 1]])"
      ]
     },
     "execution_count": 51,
     "metadata": {},
     "output_type": "execute_result"
    }
   ],
   "source": [
    "two_dim_array[::-1]"
   ]
  },
  {
   "cell_type": "code",
   "execution_count": 56,
   "id": "e93abf75-4095-4eaf-a1a9-8dbbf6e72a4d",
   "metadata": {},
   "outputs": [
    {
     "data": {
      "text/plain": [
       "6"
      ]
     },
     "execution_count": 56,
     "metadata": {},
     "output_type": "execute_result"
    }
   ],
   "source": [
    "array_2d = np.array([[1, 2, 3], [4, 5, 6], [7, 8, 9]])\n",
    "array_2d[1,2]"
   ]
  },
  {
   "cell_type": "code",
   "execution_count": 53,
   "id": "34ce2c94-f132-4919-bb41-b885ce8b5f62",
   "metadata": {},
   "outputs": [
    {
     "data": {
      "text/plain": [
       "array([[4, 5, 6]])"
      ]
     },
     "execution_count": 53,
     "metadata": {},
     "output_type": "execute_result"
    }
   ],
   "source": [
    "array_2d[1:2]"
   ]
  },
  {
   "cell_type": "code",
   "execution_count": 54,
   "id": "7868d63e-4a39-43da-bb5a-599370f8334e",
   "metadata": {},
   "outputs": [
    {
     "data": {
      "text/plain": [
       "array([], dtype=int64)"
      ]
     },
     "execution_count": 54,
     "metadata": {},
     "output_type": "execute_result"
    }
   ],
   "source": [
    "array_2d[0,3:5]"
   ]
  },
  {
   "cell_type": "code",
   "execution_count": 55,
   "id": "76cbbe06-f7f8-4518-a5f2-321802a7d74d",
   "metadata": {},
   "outputs": [
    {
     "data": {
      "text/plain": [
       "13"
      ]
     },
     "execution_count": 55,
     "metadata": {},
     "output_type": "execute_result"
    }
   ],
   "source": [
    "array1 = np.arange(10,21)\n",
    "array1[3]"
   ]
  },
  {
   "cell_type": "code",
   "execution_count": 57,
   "id": "f87233e6-7b13-4d05-9027-29e70295de03",
   "metadata": {},
   "outputs": [
    {
     "data": {
      "text/plain": [
       "array([2, 3, 4, 5])"
      ]
     },
     "execution_count": 57,
     "metadata": {},
     "output_type": "execute_result"
    }
   ],
   "source": [
    "array2 = np.arange(0,10)\n",
    "array2[2:6]"
   ]
  },
  {
   "cell_type": "code",
   "execution_count": 58,
   "id": "bb9c8232-f6f2-44b1-8f57-9e9b554f9434",
   "metadata": {},
   "outputs": [
    {
     "data": {
      "text/plain": [
       "array([[2, 3],\n",
       "       [5, 6]])"
      ]
     },
     "execution_count": 58,
     "metadata": {},
     "output_type": "execute_result"
    }
   ],
   "source": [
    "array_2d = np.array([[1,2,3],[4,5,6],[7,8,9]])\n",
    "array_2d[:2, 1:]"
   ]
  },
  {
   "cell_type": "markdown",
   "id": "a8406461-8c9e-42e1-84b1-f05aa828c884",
   "metadata": {},
   "source": [
    "### linspace"
   ]
  },
  {
   "cell_type": "markdown",
   "id": "5160af00-3b54-4cee-8d10-43f8549dda4a",
   "metadata": {},
   "source": [
    "lin_array = np.linspace(0, 5, 10)"
   ]
  },
  {
   "cell_type": "code",
   "execution_count": 62,
   "id": "e71c5416-58fa-4a5a-83b8-d40650b52c46",
   "metadata": {},
   "outputs": [
    {
     "ename": "NameError",
     "evalue": "name 'lin_array' is not defined",
     "output_type": "error",
     "traceback": [
      "\u001b[0;31m---------------------------------------------------------------------------\u001b[0m",
      "\u001b[0;31mNameError\u001b[0m                                 Traceback (most recent call last)",
      "Cell \u001b[0;32mIn[62], line 1\u001b[0m\n\u001b[0;32m----> 1\u001b[0m \u001b[43mlin_array\u001b[49m\n",
      "\u001b[0;31mNameError\u001b[0m: name 'lin_array' is not defined"
     ]
    }
   ],
   "source": [
    "lin_array"
   ]
  },
  {
   "cell_type": "markdown",
   "id": "9aeef6e6-531b-445e-ab1e-ef18142873bd",
   "metadata": {},
   "source": [
    "### Random"
   ]
  },
  {
   "cell_type": "code",
   "execution_count": 63,
   "id": "6e982b4a-4f6e-4e73-93bb-80b5f2a0a4da",
   "metadata": {},
   "outputs": [
    {
     "data": {
      "text/plain": [
       "5"
      ]
     },
     "execution_count": 63,
     "metadata": {},
     "output_type": "execute_result"
    }
   ],
   "source": [
    "np.random.randint(0,10)"
   ]
  },
  {
   "cell_type": "code",
   "execution_count": 64,
   "id": "a89136eb-a61e-4f40-9a7e-b2eb2b01b5b3",
   "metadata": {},
   "outputs": [
    {
     "data": {
      "text/plain": [
       "array([[0.8560278 , 0.33195746],\n",
       "       [0.23017371, 0.96439607]])"
      ]
     },
     "execution_count": 64,
     "metadata": {},
     "output_type": "execute_result"
    }
   ],
   "source": [
    "np.random.rand(2, 2)"
   ]
  },
  {
   "cell_type": "code",
   "execution_count": 65,
   "id": "a1f0afcb-8863-4801-9619-ec77ad8fe312",
   "metadata": {},
   "outputs": [],
   "source": [
    "# 1. Using np.arange(): Use np.arange() to generate a sequence of numbers from 20 to 30 (inclusive). Print the resulting array. Expected output: [20 21 22 23 24 25 26 27 28 29 30]\n",
    "one_arange = np.arange(20,31)"
   ]
  },
  {
   "cell_type": "code",
   "execution_count": 66,
   "id": "b0588f37-ea31-4fa4-92a2-40f47c909237",
   "metadata": {},
   "outputs": [
    {
     "data": {
      "text/plain": [
       "array([20, 21, 22, 23, 24, 25, 26, 27, 28, 29, 30])"
      ]
     },
     "execution_count": 66,
     "metadata": {},
     "output_type": "execute_result"
    }
   ],
   "source": [
    "one_arange"
   ]
  },
  {
   "cell_type": "code",
   "execution_count": 67,
   "id": "216cfdda-04d8-48b4-b374-1e3a6734dba2",
   "metadata": {},
   "outputs": [],
   "source": [
    "# 2. Using np.arange() with a step size: Use np.arange() to generate a sequence of even numbers from 10 to 20 (inclusive). \n",
    "# Print the resulting array. Expected output: [10 12 14 16 18 20]\n",
    "even_arange = np.arange(10,21,2)"
   ]
  },
  {
   "cell_type": "code",
   "execution_count": 68,
   "id": "85733f18-45ea-4620-a36a-7b71d06d2f51",
   "metadata": {},
   "outputs": [
    {
     "data": {
      "text/plain": [
       "array([10, 12, 14, 16, 18, 20])"
      ]
     },
     "execution_count": 68,
     "metadata": {},
     "output_type": "execute_result"
    }
   ],
   "source": [
    "even_arange"
   ]
  },
  {
   "cell_type": "code",
   "execution_count": 69,
   "id": "d9ec7c08-7391-498b-832d-fd916e1b485b",
   "metadata": {},
   "outputs": [],
   "source": [
    "#Using np.linspace(): Use np.linspace() to generate a sequence of 5 numbers, evenly spaced between 0 and 1 (inclusive). \n",
    "# Print the resulting array. Expected output: [0. 0.25 0.5 0.75 1. ]\n",
    "one_array = np.linspace(0,1,5)"
   ]
  },
  {
   "cell_type": "code",
   "execution_count": 70,
   "id": "eee42ea7-3a34-40fc-aaf8-d4b0d33b8e94",
   "metadata": {},
   "outputs": [
    {
     "data": {
      "text/plain": [
       "array([0.  , 0.25, 0.5 , 0.75, 1.  ])"
      ]
     },
     "execution_count": 70,
     "metadata": {},
     "output_type": "execute_result"
    }
   ],
   "source": [
    "one_array"
   ]
  },
  {
   "cell_type": "code",
   "execution_count": 73,
   "id": "741fedbd-5033-479a-a7fa-a8996ca35358",
   "metadata": {},
   "outputs": [],
   "source": [
    "#4. Using np.random.rand(): Use np.random.rand() to generate an array of 3 random numbers between 0 and 1. Print the resulting array. \n",
    "# Expected output: [0.123 0.456 0.789]. Note: Output will vary as it's random\n",
    "random_array = np.random.rand(3)"
   ]
  },
  {
   "cell_type": "code",
   "execution_count": 74,
   "id": "9c9b5be9-54a6-4450-9af1-84a71bfbd33f",
   "metadata": {},
   "outputs": [
    {
     "data": {
      "text/plain": [
       "array([0.56596256, 0.04877801, 0.14611195])"
      ]
     },
     "execution_count": 74,
     "metadata": {},
     "output_type": "execute_result"
    }
   ],
   "source": [
    "random_array"
   ]
  },
  {
   "cell_type": "code",
   "execution_count": 76,
   "id": "a51d6c9f-1856-4c56-95c8-11354cce8fdc",
   "metadata": {},
   "outputs": [],
   "source": [
    "# 5. Using np.random.randint(): Use np.random.randint() to generate an array of 4 random integers between 1 and 10. Print the resulting array. \n",
    "# Expected output: [2 5 1 8]. Note: Output will vary as it's random\n",
    "randint_array = np.random.randint(1,10,4)"
   ]
  },
  {
   "cell_type": "code",
   "execution_count": 77,
   "id": "f37eee3c-6218-4fd3-b8ef-8ddbc893dc29",
   "metadata": {},
   "outputs": [
    {
     "data": {
      "text/plain": [
       "array([1, 3, 7, 6])"
      ]
     },
     "execution_count": 77,
     "metadata": {},
     "output_type": "execute_result"
    }
   ],
   "source": [
    "randint_array"
   ]
  },
  {
   "cell_type": "code",
   "execution_count": 78,
   "id": "9a32763a-17c7-4223-af04-4d7072ba4c20",
   "metadata": {},
   "outputs": [],
   "source": [
    "two_dim_array = np.arange(0,25)"
   ]
  },
  {
   "cell_type": "code",
   "execution_count": 79,
   "id": "44e56406-c180-4f58-a0d1-ed2a081872af",
   "metadata": {},
   "outputs": [],
   "source": [
    "two_dim_array = two_dim_array.reshape((5,5))"
   ]
  },
  {
   "cell_type": "code",
   "execution_count": 80,
   "id": "ce5f142e-fd2f-46d4-9596-ea9cf6ab9b6a",
   "metadata": {},
   "outputs": [
    {
     "data": {
      "text/plain": [
       "array([[ 0,  1,  2,  3,  4],\n",
       "       [ 5,  6,  7,  8,  9],\n",
       "       [10, 11, 12, 13, 14],\n",
       "       [15, 16, 17, 18, 19],\n",
       "       [20, 21, 22, 23, 24]])"
      ]
     },
     "execution_count": 80,
     "metadata": {},
     "output_type": "execute_result"
    }
   ],
   "source": [
    "two_dim_array"
   ]
  },
  {
   "cell_type": "code",
   "execution_count": 87,
   "id": "662b87b6-6d64-4530-b7c2-b6a4b4d5ae1b",
   "metadata": {},
   "outputs": [],
   "source": [
    "# x - 1 (rows)\n",
    "# y - 0 (columns)"
   ]
  },
  {
   "cell_type": "code",
   "execution_count": 82,
   "id": "ee689383-e159-47d2-b2bf-da50386f68f2",
   "metadata": {},
   "outputs": [],
   "source": [
    "# The mean\n",
    "numbers = np.array([1,2,3,4,5])"
   ]
  },
  {
   "cell_type": "code",
   "execution_count": 83,
   "id": "53a5777c-0ab7-4a19-a52c-186126ede9fa",
   "metadata": {},
   "outputs": [
    {
     "data": {
      "text/plain": [
       "3.0"
      ]
     },
     "execution_count": 83,
     "metadata": {},
     "output_type": "execute_result"
    }
   ],
   "source": [
    "numbers.mean()"
   ]
  },
  {
   "cell_type": "code",
   "execution_count": 84,
   "id": "5bbdd5d3-2ad8-4f2b-8ec7-4d017e7d5115",
   "metadata": {},
   "outputs": [
    {
     "data": {
      "text/plain": [
       "array([ 2.,  7., 12., 17., 22.])"
      ]
     },
     "execution_count": 84,
     "metadata": {},
     "output_type": "execute_result"
    }
   ],
   "source": [
    "two_dim_array.mean(axis =1)"
   ]
  },
  {
   "cell_type": "code",
   "execution_count": 85,
   "id": "f9e7482e-5110-4df3-a860-23206da501cf",
   "metadata": {},
   "outputs": [
    {
     "data": {
      "text/plain": [
       "array([10., 11., 12., 13., 14.])"
      ]
     },
     "execution_count": 85,
     "metadata": {},
     "output_type": "execute_result"
    }
   ],
   "source": [
    "two_dim_array.mean(axis =0)"
   ]
  },
  {
   "cell_type": "code",
   "execution_count": 88,
   "id": "5a7836b2-da7e-40e3-a351-8732651a7942",
   "metadata": {},
   "outputs": [
    {
     "data": {
      "text/plain": [
       "array([[[ 0,  1,  2,  3,  4],\n",
       "        [ 5,  6,  7,  8,  9],\n",
       "        [10, 11, 12, 13, 14],\n",
       "        [15, 16, 17, 18, 19],\n",
       "        [20, 21, 22, 23, 24]],\n",
       "\n",
       "       [[ 0,  1,  2,  3,  4],\n",
       "        [ 5,  6,  7,  8,  9],\n",
       "        [10, 11, 12, 13, 14],\n",
       "        [15, 16, 17, 18, 19],\n",
       "        [20, 21, 22, 23, 24]],\n",
       "\n",
       "       [[ 0,  1,  2,  3,  4],\n",
       "        [ 5,  6,  7,  8,  9],\n",
       "        [10, 11, 12, 13, 14],\n",
       "        [15, 16, 17, 18, 19],\n",
       "        [20, 21, 22, 23, 24]],\n",
       "\n",
       "       [[ 0,  1,  2,  3,  4],\n",
       "        [ 5,  6,  7,  8,  9],\n",
       "        [10, 11, 12, 13, 14],\n",
       "        [15, 16, 17, 18, 19],\n",
       "        [20, 21, 22, 23, 24]],\n",
       "\n",
       "       [[ 0,  1,  2,  3,  4],\n",
       "        [ 5,  6,  7,  8,  9],\n",
       "        [10, 11, 12, 13, 14],\n",
       "        [15, 16, 17, 18, 19],\n",
       "        [20, 21, 22, 23, 24]]])"
      ]
     },
     "execution_count": 88,
     "metadata": {},
     "output_type": "execute_result"
    }
   ],
   "source": [
    "# sorting \n",
    "two_dim_array[two_dim_array.argsort()]"
   ]
  },
  {
   "cell_type": "code",
   "execution_count": 89,
   "id": "b7c9d827-39e5-4786-93f0-887553ba8d0b",
   "metadata": {},
   "outputs": [
    {
     "data": {
      "text/plain": [
       "array([[0, 1, 2, 3, 4],\n",
       "       [0, 1, 2, 3, 4],\n",
       "       [0, 1, 2, 3, 4],\n",
       "       [0, 1, 2, 3, 4],\n",
       "       [0, 1, 2, 3, 4]])"
      ]
     },
     "execution_count": 89,
     "metadata": {},
     "output_type": "execute_result"
    }
   ],
   "source": [
    "two_dim_array.argsort() # rows"
   ]
  },
  {
   "cell_type": "code",
   "execution_count": 90,
   "id": "08fe557e-3fae-4515-a514-05634eab138f",
   "metadata": {},
   "outputs": [
    {
     "data": {
      "text/plain": [
       "array([[0, 0, 0, 0, 0],\n",
       "       [1, 1, 1, 1, 1],\n",
       "       [2, 2, 2, 2, 2],\n",
       "       [3, 3, 3, 3, 3],\n",
       "       [4, 4, 4, 4, 4]])"
      ]
     },
     "execution_count": 90,
     "metadata": {},
     "output_type": "execute_result"
    }
   ],
   "source": [
    "two_dim_array.argsort(axis=0) # columns"
   ]
  },
  {
   "cell_type": "code",
   "execution_count": null,
   "id": "1bf9c8eb-d00f-446f-9fe1-2f323e93c9d5",
   "metadata": {},
   "outputs": [],
   "source": []
  }
 ],
 "metadata": {
  "kernelspec": {
   "display_name": "Python 3 (ipykernel)",
   "language": "python",
   "name": "python3"
  },
  "language_info": {
   "codemirror_mode": {
    "name": "ipython",
    "version": 3
   },
   "file_extension": ".py",
   "mimetype": "text/x-python",
   "name": "python",
   "nbconvert_exporter": "python",
   "pygments_lexer": "ipython3",
   "version": "3.11.3"
  }
 },
 "nbformat": 4,
 "nbformat_minor": 5
}
