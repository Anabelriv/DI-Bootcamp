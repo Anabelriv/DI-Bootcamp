{
 "cells": [
  {
   "cell_type": "code",
   "execution_count": 2,
   "id": "8b3f5105-85ea-4a74-9352-1b5245efaf05",
   "metadata": {},
   "outputs": [],
   "source": [
    "import numpy as np"
   ]
  },
  {
   "cell_type": "code",
   "execution_count": 3,
   "id": "63357d4a-6884-4547-945f-7fc31ef1a03a",
   "metadata": {},
   "outputs": [],
   "source": [
    "data = np.array(np.random.randint(1, 100, size=25)).reshape(5,5)"
   ]
  },
  {
   "cell_type": "code",
   "execution_count": 4,
   "id": "573b496f-deb3-43b2-99e7-578767762150",
   "metadata": {},
   "outputs": [
    {
     "data": {
      "text/plain": [
       "array([[74, 47,  3, 57, 40],\n",
       "       [36, 67, 50, 79, 38],\n",
       "       [99, 97, 57, 98, 67],\n",
       "       [51, 45, 72, 75, 79],\n",
       "       [97, 33,  5, 49, 70]])"
      ]
     },
     "execution_count": 4,
     "metadata": {},
     "output_type": "execute_result"
    }
   ],
   "source": [
    "data"
   ]
  },
  {
   "cell_type": "code",
   "execution_count": 7,
   "id": "1f2e2ed0-c031-4033-be8e-8303a31d505e",
   "metadata": {},
   "outputs": [
    {
     "data": {
      "text/plain": [
       "array([[0.125, 0.625, 0.375],\n",
       "       [0.25 , 1.   , 0.5  ],\n",
       "       [0.   , 0.75 , 0.875]])"
      ]
     },
     "execution_count": 7,
     "metadata": {},
     "output_type": "execute_result"
    }
   ],
   "source": [
    "data = np.array([[1, 5, 3],\n",
    "                 [2, 8, 4],\n",
    "                 [0, 6, 7]])\n",
    "min_val = np.min(data)\n",
    "max_val = np.max(data)\n",
    "normalized_data = (data - min_val) / (max_val - min_val)\n",
    "normalized_data"
   ]
  },
  {
   "cell_type": "code",
   "execution_count": 8,
   "id": "967f15e2-b864-4b7f-98b4-d078265f4a2e",
   "metadata": {},
   "outputs": [
    {
     "data": {
      "text/plain": [
       "array([[-0.77617895, -1.62657422,  0.92461158,  0.38345096, -0.11905534],\n",
       "       [ 1.50442653,  1.27250055, -0.85348761,  0.07421631,  1.04057457],\n",
       "       [-0.35098132,  1.69769818, -0.9694506 , -1.24003091, -0.23501833],\n",
       "       [-1.20137658, -0.46694431,  0.57672261,  0.61537694,  1.58173519],\n",
       "       [ 0.92461158, -0.89214194, -1.51061123, -0.73752462,  0.38345096]])"
      ]
     },
     "execution_count": 8,
     "metadata": {},
     "output_type": "execute_result"
    }
   ],
   "source": [
    "data = np.array([[34, 12, 78, 64, 51],\n",
    "                 [93, 87, 32, 56, 81],\n",
    "                 [45, 98, 29, 22, 48],\n",
    "                 [23, 42, 69, 70, 95],\n",
    "                 [78, 31, 15, 35, 64]])\n",
    "\n",
    "# Z-score normalization\n",
    "mean = np.mean(data)\n",
    "std = np.std(data)\n",
    "normalized_data = (data - mean) / std\n",
    "normalized_data"
   ]
  },
  {
   "cell_type": "code",
   "execution_count": 9,
   "id": "bb6e4be0-3a36-4c81-b256-9a765b1a184c",
   "metadata": {},
   "outputs": [
    {
     "data": {
      "text/plain": [
       "[array([34, 12, 78, 64, 51]),\n",
       " array([93, 87, 32, 56, 81]),\n",
       " array([45, 98, 29, 22, 48]),\n",
       " array([23, 42, 69, 70, 95]),\n",
       " array([78, 31, 15, 35, 64])]"
      ]
     },
     "execution_count": 9,
     "metadata": {},
     "output_type": "execute_result"
    }
   ],
   "source": [
    "flattened_data = np.ravel(data)\n",
    "split_arrays = np.array_split(flattened_data, 5)\n",
    "split_arrays"
   ]
  },
  {
   "cell_type": "code",
   "execution_count": 10,
   "id": "469b7b30-cbad-4d20-b5ae-ada2c3b7c11e",
   "metadata": {},
   "outputs": [
    {
     "data": {
      "text/plain": [
       "198"
      ]
     },
     "execution_count": 10,
     "metadata": {},
     "output_type": "execute_result"
    }
   ],
   "source": [
    "vector1 = np.array([3, 5, 6, 7, 8])\n",
    "vector2 = np.array([2, 4, 6, 8, 10])\n",
    "\n",
    "# Compute the dot product\n",
    "dot_product = np.dot(vector1, vector2)\n",
    "dot_product"
   ]
  },
  {
   "cell_type": "code",
   "execution_count": 12,
   "id": "5ba15d3e-b5f5-4edf-8f3f-d762b16cacf3",
   "metadata": {},
   "outputs": [
    {
     "data": {
      "text/plain": [
       "array([[ 628,  752,  876],\n",
       "       [ 665,  877, 1089],\n",
       "       [ 640,  812,  984]])"
      ]
     },
     "execution_count": 12,
     "metadata": {},
     "output_type": "execute_result"
    }
   ],
   "source": [
    "data2 = np.array([[1, 2, 3],\n",
    "                  [4, 5, 6],\n",
    "                  [7, 8, 9]])\n",
    "\n",
    "# Perform matrix multiplication\n",
    "result_matrix = np.dot(data[:3, :3], data2)\n",
    "result_matrix"
   ]
  },
  {
   "cell_type": "code",
   "execution_count": 13,
   "id": "3c56a2c6-98b5-499c-97a9-300d30b98105",
   "metadata": {},
   "outputs": [
    {
     "data": {
      "text/plain": [
       "array([[0.5, 0. , 0. ],\n",
       "       [0. , 0.5, 0. ],\n",
       "       [0. , 0. , 0.5]])"
      ]
     },
     "execution_count": 13,
     "metadata": {},
     "output_type": "execute_result"
    }
   ],
   "source": [
    "identity_matrix = np.eye(3)\n",
    "scaled_identity = 2 * identity_matrix\n",
    "inverse_matrix = np.linalg.inv(scaled_identity)\n",
    "inverse_matrix"
   ]
  },
  {
   "cell_type": "code",
   "execution_count": 14,
   "id": "d45cce9d-ddcb-4cb1-87c0-959ee0507b84",
   "metadata": {},
   "outputs": [
    {
     "data": {
      "text/plain": [
       "array([170.34019176 +0.j        , -10.17009588+45.45680714j,\n",
       "       -10.17009588-45.45680714j])"
      ]
     },
     "execution_count": 14,
     "metadata": {},
     "output_type": "execute_result"
    }
   ],
   "source": [
    "eigenvalues, eigenvectors = np.linalg.eig(data[:3, :3])\n",
    "eigenvalues"
   ]
  },
  {
   "cell_type": "code",
   "execution_count": 15,
   "id": "c274e0aa-c29c-4855-a54b-6d289df94e40",
   "metadata": {},
   "outputs": [
    {
     "data": {
      "text/plain": [
       "array([[-0.40613931+0.j        , -0.67059406+0.j        ,\n",
       "        -0.67059406-0.j        ],\n",
       "       [-0.68531486+0.j        ,  0.38423037+0.32490761j,\n",
       "         0.38423037-0.32490761j],\n",
       "       [-0.60447863+0.j        ,  0.32063384-0.44079431j,\n",
       "         0.32063384+0.44079431j]])"
      ]
     },
     "execution_count": 15,
     "metadata": {},
     "output_type": "execute_result"
    }
   ],
   "source": [
    "eigenvectors"
   ]
  },
  {
   "cell_type": "code",
   "execution_count": 55,
   "id": "7d3ce7c5-7655-4382-9f1e-c841c6124c19",
   "metadata": {},
   "outputs": [],
   "source": [
    "# Find missing values - Replace random 5 elements in the data matrix with np.nan. Find the indices of the missing values.\n",
    "# Expected output (example): (array([0, 2, 3, 4, 4]), array([2, 3, 1, 0, 4]))\n",
    "\n",
    "data = np.array([[34, 12, 78, 64, 51],\n",
    "                 [93, 87, 32, 56, 81],\n",
    "                 [45, 98, 29, 22, 48],\n",
    "                 [23, 42, 69, 70, 95],\n",
    "                 [78, 31, 15, 35, 64]], dtype =float)\n",
    "\n",
    "np.random.seed(42)  \n",
    "indices_to_replace = np.random.choice(data.size, 5, replace=False)\n",
    "data_with_nan = data.ravel()\n",
    "data_with_nan[indices_to_replace] = np.nan\n",
    "\n",
    "# Find the indices of the missing values\n",
    "missing_indices = np.where(np.isnan(data_with_nan))[0]"
   ]
  },
  {
   "cell_type": "code",
   "execution_count": 56,
   "id": "ac4f881b-2a16-439f-88eb-e644c5b71b10",
   "metadata": {},
   "outputs": [
    {
     "name": "stdout",
     "output_type": "stream",
     "text": [
      "[[34.         12.         52.42857143 64.         51.        ]\n",
      " [93.         52.42857143 32.         56.         81.        ]\n",
      " [45.         98.         29.         52.42857143 48.        ]\n",
      " [23.         42.         69.         70.         95.        ]\n",
      " [78.         31.         15.         35.         52.42857143]]\n"
     ]
    }
   ],
   "source": [
    "# Sample data matrix with missing values (replace this with your actual data)\n",
    "data_with_nan = np.array([[34, 12, np.nan, 64, 51],\n",
    "                          [93, np.nan, 32, 56, 81],\n",
    "                          [45, 98, 29, np.nan, 48],\n",
    "                          [23, 42, 69, 70, 95],\n",
    "                          [78, 31, 15, 35, np.nan]])\n",
    "\n",
    "# Calculate the mean of the matrix, ignoring the missing values\n",
    "mean_value = np.nanmean(data_with_nan)\n",
    "\n",
    "# Replace the missing values with the computed mean\n",
    "data_filled = np.where(np.isnan(data_with_nan), mean_value, data_with_nan)\n",
    "print(data_filled)\n"
   ]
  },
  {
   "cell_type": "code",
   "execution_count": null,
   "id": "656892d5-c2ce-4938-904e-daa60016974e",
   "metadata": {},
   "outputs": [],
   "source": []
  }
 ],
 "metadata": {
  "kernelspec": {
   "display_name": "Python 3 (ipykernel)",
   "language": "python",
   "name": "python3"
  },
  "language_info": {
   "codemirror_mode": {
    "name": "ipython",
    "version": 3
   },
   "file_extension": ".py",
   "mimetype": "text/x-python",
   "name": "python",
   "nbconvert_exporter": "python",
   "pygments_lexer": "ipython3",
   "version": "3.11.3"
  }
 },
 "nbformat": 4,
 "nbformat_minor": 5
}
