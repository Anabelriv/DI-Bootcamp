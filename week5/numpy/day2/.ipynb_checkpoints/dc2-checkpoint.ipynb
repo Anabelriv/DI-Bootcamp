{
 "cells": [
  {
   "cell_type": "code",
   "execution_count": 29,
   "id": "2c9c1f0a-b8f1-44b2-bbb4-2ed640382d82",
   "metadata": {},
   "outputs": [],
   "source": [
    "import pandas as pd\n",
    "import numpy as np\n",
    "import matplotlib.pyplot as plt"
   ]
  },
  {
   "cell_type": "code",
   "execution_count": 2,
   "id": "a8300487-26f6-4b27-b2c4-069e1afc2dea",
   "metadata": {},
   "outputs": [
    {
     "data": {
      "text/html": [
       "<div>\n",
       "<style scoped>\n",
       "    .dataframe tbody tr th:only-of-type {\n",
       "        vertical-align: middle;\n",
       "    }\n",
       "\n",
       "    .dataframe tbody tr th {\n",
       "        vertical-align: top;\n",
       "    }\n",
       "\n",
       "    .dataframe thead th {\n",
       "        text-align: right;\n",
       "    }\n",
       "</style>\n",
       "<table border=\"1\" class=\"dataframe\">\n",
       "  <thead>\n",
       "    <tr style=\"text-align: right;\">\n",
       "      <th></th>\n",
       "      <th>Beverage_category</th>\n",
       "      <th>Beverage</th>\n",
       "      <th>Beverage_prep</th>\n",
       "      <th>Calories</th>\n",
       "      <th>Total Fat (g)</th>\n",
       "      <th>Trans Fat (g)</th>\n",
       "      <th>Saturated Fat (g)</th>\n",
       "      <th>Sodium (mg)</th>\n",
       "      <th>Total Carbohydrates (g)</th>\n",
       "      <th>Cholesterol (mg)</th>\n",
       "      <th>Dietary Fibre (g)</th>\n",
       "      <th>Sugars (g)</th>\n",
       "      <th>Protein (g)</th>\n",
       "      <th>Vitamin A (% DV)</th>\n",
       "      <th>Vitamin C (% DV)</th>\n",
       "      <th>Calcium (% DV)</th>\n",
       "      <th>Iron (% DV)</th>\n",
       "      <th>Caffeine (mg)</th>\n",
       "    </tr>\n",
       "  </thead>\n",
       "  <tbody>\n",
       "    <tr>\n",
       "      <th>0</th>\n",
       "      <td>Coffee</td>\n",
       "      <td>Brewed Coffee</td>\n",
       "      <td>Short</td>\n",
       "      <td>3</td>\n",
       "      <td>0.1</td>\n",
       "      <td>0.0</td>\n",
       "      <td>0.0</td>\n",
       "      <td>0</td>\n",
       "      <td>5</td>\n",
       "      <td>0</td>\n",
       "      <td>0</td>\n",
       "      <td>0</td>\n",
       "      <td>0.3</td>\n",
       "      <td>0%</td>\n",
       "      <td>0%</td>\n",
       "      <td>0%</td>\n",
       "      <td>0%</td>\n",
       "      <td>175</td>\n",
       "    </tr>\n",
       "    <tr>\n",
       "      <th>1</th>\n",
       "      <td>Coffee</td>\n",
       "      <td>Brewed Coffee</td>\n",
       "      <td>Tall</td>\n",
       "      <td>4</td>\n",
       "      <td>0.1</td>\n",
       "      <td>0.0</td>\n",
       "      <td>0.0</td>\n",
       "      <td>0</td>\n",
       "      <td>10</td>\n",
       "      <td>0</td>\n",
       "      <td>0</td>\n",
       "      <td>0</td>\n",
       "      <td>0.5</td>\n",
       "      <td>0%</td>\n",
       "      <td>0%</td>\n",
       "      <td>0%</td>\n",
       "      <td>0%</td>\n",
       "      <td>260</td>\n",
       "    </tr>\n",
       "    <tr>\n",
       "      <th>2</th>\n",
       "      <td>Coffee</td>\n",
       "      <td>Brewed Coffee</td>\n",
       "      <td>Grande</td>\n",
       "      <td>5</td>\n",
       "      <td>0.1</td>\n",
       "      <td>0.0</td>\n",
       "      <td>0.0</td>\n",
       "      <td>0</td>\n",
       "      <td>10</td>\n",
       "      <td>0</td>\n",
       "      <td>0</td>\n",
       "      <td>0</td>\n",
       "      <td>1.0</td>\n",
       "      <td>0%</td>\n",
       "      <td>0%</td>\n",
       "      <td>0%</td>\n",
       "      <td>0%</td>\n",
       "      <td>330</td>\n",
       "    </tr>\n",
       "    <tr>\n",
       "      <th>3</th>\n",
       "      <td>Coffee</td>\n",
       "      <td>Brewed Coffee</td>\n",
       "      <td>Venti</td>\n",
       "      <td>5</td>\n",
       "      <td>0.1</td>\n",
       "      <td>0.0</td>\n",
       "      <td>0.0</td>\n",
       "      <td>0</td>\n",
       "      <td>10</td>\n",
       "      <td>0</td>\n",
       "      <td>0</td>\n",
       "      <td>0</td>\n",
       "      <td>1.0</td>\n",
       "      <td>0%</td>\n",
       "      <td>0%</td>\n",
       "      <td>2%</td>\n",
       "      <td>0%</td>\n",
       "      <td>410</td>\n",
       "    </tr>\n",
       "    <tr>\n",
       "      <th>4</th>\n",
       "      <td>Classic Espresso Drinks</td>\n",
       "      <td>Caffè Latte</td>\n",
       "      <td>Short Nonfat Milk</td>\n",
       "      <td>70</td>\n",
       "      <td>0.1</td>\n",
       "      <td>0.1</td>\n",
       "      <td>0.0</td>\n",
       "      <td>5</td>\n",
       "      <td>75</td>\n",
       "      <td>10</td>\n",
       "      <td>0</td>\n",
       "      <td>9</td>\n",
       "      <td>6.0</td>\n",
       "      <td>10%</td>\n",
       "      <td>0%</td>\n",
       "      <td>20%</td>\n",
       "      <td>0%</td>\n",
       "      <td>75</td>\n",
       "    </tr>\n",
       "    <tr>\n",
       "      <th>5</th>\n",
       "      <td>Classic Espresso Drinks</td>\n",
       "      <td>Caffè Latte</td>\n",
       "      <td>2% Milk</td>\n",
       "      <td>100</td>\n",
       "      <td>3.5</td>\n",
       "      <td>2.0</td>\n",
       "      <td>0.1</td>\n",
       "      <td>15</td>\n",
       "      <td>85</td>\n",
       "      <td>10</td>\n",
       "      <td>0</td>\n",
       "      <td>9</td>\n",
       "      <td>6.0</td>\n",
       "      <td>10%</td>\n",
       "      <td>0%</td>\n",
       "      <td>20%</td>\n",
       "      <td>0%</td>\n",
       "      <td>75</td>\n",
       "    </tr>\n",
       "    <tr>\n",
       "      <th>6</th>\n",
       "      <td>Classic Espresso Drinks</td>\n",
       "      <td>Caffè Latte</td>\n",
       "      <td>Soymilk</td>\n",
       "      <td>70</td>\n",
       "      <td>2.5</td>\n",
       "      <td>0.4</td>\n",
       "      <td>0.0</td>\n",
       "      <td>0</td>\n",
       "      <td>65</td>\n",
       "      <td>6</td>\n",
       "      <td>1</td>\n",
       "      <td>4</td>\n",
       "      <td>5.0</td>\n",
       "      <td>6%</td>\n",
       "      <td>0%</td>\n",
       "      <td>20%</td>\n",
       "      <td>8%</td>\n",
       "      <td>75</td>\n",
       "    </tr>\n",
       "    <tr>\n",
       "      <th>7</th>\n",
       "      <td>Classic Espresso Drinks</td>\n",
       "      <td>Caffè Latte</td>\n",
       "      <td>Tall Nonfat Milk</td>\n",
       "      <td>100</td>\n",
       "      <td>0.2</td>\n",
       "      <td>0.2</td>\n",
       "      <td>0.0</td>\n",
       "      <td>5</td>\n",
       "      <td>120</td>\n",
       "      <td>15</td>\n",
       "      <td>0</td>\n",
       "      <td>14</td>\n",
       "      <td>10.0</td>\n",
       "      <td>15%</td>\n",
       "      <td>0%</td>\n",
       "      <td>30%</td>\n",
       "      <td>0%</td>\n",
       "      <td>75</td>\n",
       "    </tr>\n",
       "    <tr>\n",
       "      <th>8</th>\n",
       "      <td>Classic Espresso Drinks</td>\n",
       "      <td>Caffè Latte</td>\n",
       "      <td>2% Milk</td>\n",
       "      <td>150</td>\n",
       "      <td>6</td>\n",
       "      <td>3.0</td>\n",
       "      <td>0.2</td>\n",
       "      <td>25</td>\n",
       "      <td>135</td>\n",
       "      <td>15</td>\n",
       "      <td>0</td>\n",
       "      <td>14</td>\n",
       "      <td>10.0</td>\n",
       "      <td>15%</td>\n",
       "      <td>0%</td>\n",
       "      <td>30%</td>\n",
       "      <td>0%</td>\n",
       "      <td>75</td>\n",
       "    </tr>\n",
       "    <tr>\n",
       "      <th>9</th>\n",
       "      <td>Classic Espresso Drinks</td>\n",
       "      <td>Caffè Latte</td>\n",
       "      <td>Soymilk</td>\n",
       "      <td>110</td>\n",
       "      <td>4.5</td>\n",
       "      <td>0.5</td>\n",
       "      <td>0.0</td>\n",
       "      <td>0</td>\n",
       "      <td>105</td>\n",
       "      <td>10</td>\n",
       "      <td>1</td>\n",
       "      <td>6</td>\n",
       "      <td>8.0</td>\n",
       "      <td>10%</td>\n",
       "      <td>0%</td>\n",
       "      <td>30%</td>\n",
       "      <td>15%</td>\n",
       "      <td>75</td>\n",
       "    </tr>\n",
       "  </tbody>\n",
       "</table>\n",
       "</div>"
      ],
      "text/plain": [
       "         Beverage_category       Beverage      Beverage_prep  Calories   \n",
       "0                   Coffee  Brewed Coffee              Short         3  \\\n",
       "1                   Coffee  Brewed Coffee               Tall         4   \n",
       "2                   Coffee  Brewed Coffee             Grande         5   \n",
       "3                   Coffee  Brewed Coffee              Venti         5   \n",
       "4  Classic Espresso Drinks    Caffè Latte  Short Nonfat Milk        70   \n",
       "5  Classic Espresso Drinks    Caffè Latte            2% Milk       100   \n",
       "6  Classic Espresso Drinks    Caffè Latte            Soymilk        70   \n",
       "7  Classic Espresso Drinks    Caffè Latte   Tall Nonfat Milk       100   \n",
       "8  Classic Espresso Drinks    Caffè Latte            2% Milk       150   \n",
       "9  Classic Espresso Drinks    Caffè Latte            Soymilk       110   \n",
       "\n",
       "   Total Fat (g)  Trans Fat (g)   Saturated Fat (g)   Sodium (mg)   \n",
       "0            0.1             0.0                0.0             0  \\\n",
       "1            0.1             0.0                0.0             0   \n",
       "2            0.1             0.0                0.0             0   \n",
       "3            0.1             0.0                0.0             0   \n",
       "4            0.1             0.1                0.0             5   \n",
       "5            3.5             2.0                0.1            15   \n",
       "6            2.5             0.4                0.0             0   \n",
       "7            0.2             0.2                0.0             5   \n",
       "8              6             3.0                0.2            25   \n",
       "9            4.5             0.5                0.0             0   \n",
       "\n",
       "    Total Carbohydrates (g)   Cholesterol (mg)   Dietary Fibre (g)   \n",
       "0                          5                 0                   0  \\\n",
       "1                         10                 0                   0   \n",
       "2                         10                 0                   0   \n",
       "3                         10                 0                   0   \n",
       "4                         75                10                   0   \n",
       "5                         85                10                   0   \n",
       "6                         65                 6                   1   \n",
       "7                        120                15                   0   \n",
       "8                        135                15                   0   \n",
       "9                        105                10                   1   \n",
       "\n",
       "    Sugars (g)   Protein (g)  Vitamin A (% DV)  Vitamin C (% DV)   \n",
       "0            0            0.3                0%               0%  \\\n",
       "1            0            0.5                0%               0%   \n",
       "2            0            1.0                0%               0%   \n",
       "3            0            1.0                0%               0%   \n",
       "4            9            6.0               10%               0%   \n",
       "5            9            6.0               10%               0%   \n",
       "6            4            5.0                6%               0%   \n",
       "7           14           10.0               15%               0%   \n",
       "8           14           10.0               15%               0%   \n",
       "9            6            8.0               10%               0%   \n",
       "\n",
       "   Calcium (% DV)  Iron (% DV)  Caffeine (mg)  \n",
       "0               0%           0%           175  \n",
       "1               0%           0%           260  \n",
       "2               0%           0%           330  \n",
       "3               2%           0%           410  \n",
       "4              20%           0%            75  \n",
       "5              20%           0%            75  \n",
       "6              20%           8%            75  \n",
       "7              30%           0%            75  \n",
       "8              30%           0%            75  \n",
       "9              30%          15%            75  "
      ]
     },
     "execution_count": 2,
     "metadata": {},
     "output_type": "execute_result"
    }
   ],
   "source": [
    "starbucks = pd.read_csv('starbucks.csv')\n",
    "starbucks.head(10)"
   ]
  },
  {
   "cell_type": "code",
   "execution_count": 3,
   "id": "ac2f8e2c-e2a9-4bcf-8b93-2f44fafca37d",
   "metadata": {},
   "outputs": [
    {
     "data": {
      "text/plain": [
       "242"
      ]
     },
     "execution_count": 3,
     "metadata": {},
     "output_type": "execute_result"
    }
   ],
   "source": [
    "# Determine the total number of entries in ‘starbucks’\n",
    "total_entries = starbucks.shape[0]\n",
    "total_entries"
   ]
  },
  {
   "cell_type": "code",
   "execution_count": 4,
   "id": "c313ecfc-1b9b-41d0-8082-a42046664a3e",
   "metadata": {},
   "outputs": [
    {
     "data": {
      "text/plain": [
       "Index(['Beverage_category', 'Beverage', 'Beverage_prep', 'Calories',\n",
       "       ' Total Fat (g)', 'Trans Fat (g) ', 'Saturated Fat (g)', ' Sodium (mg)',\n",
       "       ' Total Carbohydrates (g) ', 'Cholesterol (mg)', ' Dietary Fibre (g)',\n",
       "       ' Sugars (g)', ' Protein (g) ', 'Vitamin A (% DV) ', 'Vitamin C (% DV)',\n",
       "       ' Calcium (% DV) ', 'Iron (% DV) ', 'Caffeine (mg)'],\n",
       "      dtype='object')"
      ]
     },
     "execution_count": 4,
     "metadata": {},
     "output_type": "execute_result"
    }
   ],
   "source": [
    "# Print all the column names in the DataFrame.\n",
    "column_names = starbucks.columns\n",
    "column_names"
   ]
  },
  {
   "cell_type": "code",
   "execution_count": 5,
   "id": "41bd72bb-1f0c-4072-9b12-2a271c4d82c1",
   "metadata": {},
   "outputs": [
    {
     "data": {
      "text/plain": [
       "RangeIndex(start=0, stop=242, step=1)"
      ]
     },
     "execution_count": 5,
     "metadata": {},
     "output_type": "execute_result"
    }
   ],
   "source": [
    "# Find out how the DataFrame is indexed.\n",
    "index = starbucks.index\n",
    "index"
   ]
  },
  {
   "cell_type": "code",
   "execution_count": 6,
   "id": "29418429-cb94-4ecd-a14f-5d25ea65002c",
   "metadata": {},
   "outputs": [
    {
     "data": {
      "text/plain": [
       "'Java Chip (Without Whipped Cream)'"
      ]
     },
     "execution_count": 6,
     "metadata": {},
     "output_type": "execute_result"
    }
   ],
   "source": [
    "# Determine the drink that contains the most amount of sugar on average\n",
    "drinks_to_sugar_avg = starbucks[['Beverage', ' Sugars (g)']].groupby('Beverage').mean()\n",
    "index_of_max_sugar = drinks_to_sugar_avg[' Sugars (g)'].idxmax()\n",
    "index_of_max_sugar"
   ]
  },
  {
   "cell_type": "code",
   "execution_count": 7,
   "id": "2aa8062b-6996-4691-8ca4-7ce8da94dbf4",
   "metadata": {},
   "outputs": [
    {
     "data": {
      "text/plain": [
       "9"
      ]
     },
     "execution_count": 7,
     "metadata": {},
     "output_type": "execute_result"
    }
   ],
   "source": [
    "# Find out how many different drink categories there are. Use the nunique() function for this.\n",
    "categories = starbucks['Beverage_category'].nunique()\n",
    "categories"
   ]
  },
  {
   "cell_type": "code",
   "execution_count": 8,
   "id": "b7248171-af03-441d-8b0e-c5e1311f275e",
   "metadata": {},
   "outputs": [
    {
     "data": {
      "text/plain": [
       "Beverage_category\n",
       "Classic Espresso Drinks        58\n",
       "Tazo® Tea Drinks               52\n",
       "Signature Espresso Drinks      40\n",
       "Frappuccino® Blended Coffee    36\n",
       "Shaken Iced Beverages          18\n",
       "Name: count, dtype: int64"
      ]
     },
     "execution_count": 8,
     "metadata": {},
     "output_type": "execute_result"
    }
   ],
   "source": [
    "# Identify the 5 most frequent drink categories.\n",
    "most_frequent = starbucks['Beverage_category'].value_counts()\n",
    "most_frequent.head(5)"
   ]
  },
  {
   "cell_type": "code",
   "execution_count": 9,
   "id": "0b2d991d-09a7-4e1e-8a92-b23eb6dc5aa0",
   "metadata": {},
   "outputs": [
    {
     "data": {
      "text/html": [
       "<div>\n",
       "<style scoped>\n",
       "    .dataframe tbody tr th:only-of-type {\n",
       "        vertical-align: middle;\n",
       "    }\n",
       "\n",
       "    .dataframe tbody tr th {\n",
       "        vertical-align: top;\n",
       "    }\n",
       "\n",
       "    .dataframe thead th {\n",
       "        text-align: right;\n",
       "    }\n",
       "</style>\n",
       "<table border=\"1\" class=\"dataframe\">\n",
       "  <thead>\n",
       "    <tr style=\"text-align: right;\">\n",
       "      <th></th>\n",
       "      <th>Calories</th>\n",
       "    </tr>\n",
       "    <tr>\n",
       "      <th>Beverage_category</th>\n",
       "      <th></th>\n",
       "    </tr>\n",
       "  </thead>\n",
       "  <tbody>\n",
       "    <tr>\n",
       "      <th>Classic Espresso Drinks</th>\n",
       "      <td>140.172414</td>\n",
       "    </tr>\n",
       "    <tr>\n",
       "      <th>Coffee</th>\n",
       "      <td>4.250000</td>\n",
       "    </tr>\n",
       "    <tr>\n",
       "      <th>Frappuccino® Blended Coffee</th>\n",
       "      <td>276.944444</td>\n",
       "    </tr>\n",
       "    <tr>\n",
       "      <th>Frappuccino® Blended Crème</th>\n",
       "      <td>233.076923</td>\n",
       "    </tr>\n",
       "    <tr>\n",
       "      <th>Frappuccino® Light Blended Coffee</th>\n",
       "      <td>162.500000</td>\n",
       "    </tr>\n",
       "    <tr>\n",
       "      <th>Shaken Iced Beverages</th>\n",
       "      <td>114.444444</td>\n",
       "    </tr>\n",
       "    <tr>\n",
       "      <th>Signature Espresso Drinks</th>\n",
       "      <td>250.000000</td>\n",
       "    </tr>\n",
       "    <tr>\n",
       "      <th>Smoothies</th>\n",
       "      <td>282.222222</td>\n",
       "    </tr>\n",
       "    <tr>\n",
       "      <th>Tazo® Tea Drinks</th>\n",
       "      <td>177.307692</td>\n",
       "    </tr>\n",
       "  </tbody>\n",
       "</table>\n",
       "</div>"
      ],
      "text/plain": [
       "                                     Calories\n",
       "Beverage_category                            \n",
       "Classic Espresso Drinks            140.172414\n",
       "Coffee                               4.250000\n",
       "Frappuccino® Blended Coffee        276.944444\n",
       "Frappuccino® Blended Crème         233.076923\n",
       "Frappuccino® Light Blended Coffee  162.500000\n",
       "Shaken Iced Beverages              114.444444\n",
       "Signature Espresso Drinks          250.000000\n",
       "Smoothies                          282.222222\n",
       "Tazo® Tea Drinks                   177.307692"
      ]
     },
     "execution_count": 9,
     "metadata": {},
     "output_type": "execute_result"
    }
   ],
   "source": [
    "# Find out the average calorie content per drink category.\n",
    "average_calorie_category = starbucks[['Beverage_category','Calories']].groupby('Beverage_category').mean()\n",
    "average_calorie_category"
   ]
  },
  {
   "cell_type": "code",
   "execution_count": null,
   "id": "590ba2e0-8b1a-42e5-b922-802c92d7606f",
   "metadata": {},
   "outputs": [],
   "source": []
  },
  {
   "cell_type": "code",
   "execution_count": 14,
   "id": "acc80e2f-c55d-4fdb-a300-34ddcb53a560",
   "metadata": {},
   "outputs": [
    {
     "name": "stderr",
     "output_type": "stream",
     "text": [
      "/var/folders/fj/08grcf4d3b51c_g1p83gwy2w0000gn/T/ipykernel_16785/2176808029.py:4: SettingWithCopyWarning: \n",
      "A value is trying to be set on a copy of a slice from a DataFrame.\n",
      "Try using .loc[row_indexer,col_indexer] = value instead\n",
      "\n",
      "See the caveats in the documentation: https://pandas.pydata.org/pandas-docs/stable/user_guide/indexing.html#returning-a-view-versus-a-copy\n",
      "  starbucks_with_numeric_caffeine['Caffeine (mg)'] = starbucks_with_numeric_caffeine['Caffeine (mg)'].astype(float)\n",
      "/var/folders/fj/08grcf4d3b51c_g1p83gwy2w0000gn/T/ipykernel_16785/2176808029.py:5: SettingWithCopyWarning: \n",
      "A value is trying to be set on a copy of a slice from a DataFrame.\n",
      "Try using .loc[row_indexer,col_indexer] = value instead\n",
      "\n",
      "See the caveats in the documentation: https://pandas.pydata.org/pandas-docs/stable/user_guide/indexing.html#returning-a-view-versus-a-copy\n",
      "  starbucks_with_numeric_caffeine['caffeine_to_calories'] = starbucks_with_numeric_caffeine['Caffeine (mg)'] / starbucks_with_numeric_caffeine['Calories']\n"
     ]
    },
    {
     "data": {
      "text/plain": [
       "Index(['Beverage_category', 'Beverage', 'Beverage_prep', 'Calories',\n",
       "       ' Total Fat (g)', 'Trans Fat (g) ', 'Saturated Fat (g)', ' Sodium (mg)',\n",
       "       ' Total Carbohydrates (g) ', 'Cholesterol (mg)', ' Dietary Fibre (g)',\n",
       "       ' Sugars (g)', ' Protein (g) ', 'Vitamin A (% DV) ', 'Vitamin C (% DV)',\n",
       "       ' Calcium (% DV) ', 'Iron (% DV) ', 'Caffeine (mg)',\n",
       "       'caffeine_to_calories'],\n",
       "      dtype='object')"
      ]
     },
     "execution_count": 14,
     "metadata": {},
     "output_type": "execute_result"
    }
   ],
   "source": [
    "# Create a new column ‘caffeine_to_calories’ \n",
    "# that represents the ratio of caffeine to calories in each drink.\n",
    "starbucks_with_numeric_caffeine = starbucks[~starbucks['Caffeine (mg)'].isin(['Varies', 'varies'])]\n",
    "starbucks_with_numeric_caffeine['Caffeine (mg)'] = starbucks_with_numeric_caffeine['Caffeine (mg)'].astype(float)\n",
    "starbucks_with_numeric_caffeine['caffeine_to_calories'] = starbucks_with_numeric_caffeine['Caffeine (mg)'] / starbucks_with_numeric_caffeine['Calories']\n",
    "starbucks = starbucks.join(starbucks_with_numeric_caffeine[['caffeine_to_calories']])\n",
    "starbucks.columns"
   ]
  },
  {
   "cell_type": "code",
   "execution_count": 16,
   "id": "bfd0b4d2-e1af-4638-8069-21a3c57194f4",
   "metadata": {},
   "outputs": [
    {
     "data": {
      "text/plain": [
       "23"
      ]
     },
     "execution_count": 16,
     "metadata": {},
     "output_type": "execute_result"
    }
   ],
   "source": [
    "# checking we still have records with na values in this field - means the join worked well\n",
    "len(starbucks[starbucks['caffeine_to_calories'].isna()])"
   ]
  },
  {
   "cell_type": "code",
   "execution_count": 23,
   "id": "040e709c-201b-4063-8b96-be686cb2de8d",
   "metadata": {},
   "outputs": [
    {
     "data": {
      "text/plain": [
       "caffeine_to_calories    Coffee\n",
       "dtype: object"
      ]
     },
     "execution_count": 23,
     "metadata": {},
     "output_type": "execute_result"
    }
   ],
   "source": [
    "# Find the drink category that, on average, has the highest ‘caffeine_to_calories’ ratio.\n",
    "category_mean_ratio = starbucks[['Beverage_category','caffeine_to_calories']].groupby('Beverage_category').mean()\n",
    "highest_ratio_category = category_mean_ratio.idxmax()\n",
    "highest_ratio_category"
   ]
  },
  {
   "cell_type": "code",
   "execution_count": 35,
   "id": "a25a5164-e560-4090-ae61-27dda1e83e3a",
   "metadata": {},
   "outputs": [
    {
     "data": {
      "image/png": "[encoded data removed]",
      "text/plain": [
       "<Figure size 640x480 with 1 Axes>"
      ]
     },
     "metadata": {},
     "output_type": "display_data"
    }
   ],
   "source": [
    "# Create a horizontal bar plot that shows the average ‘caffeine_to_calories’ ratio \n",
    "# for each drink category. Use matplotlib’s barh() function for this.\n",
    "figure, axes_set = plt.subplots()\n",
    "axes_set.set(title='Lineplot', xlabel='X', ylabel='Y')\n",
    "axes_set.barh(starbucks['Beverage_category'],starbucks['caffeine_to_calories'])\n",
    "#plt.barh(category_mean_ratio.index, category_mean_ratio.values, color='blue')\n",
    "\n",
    "# Add labels and title\n",
    "plt.xlabel('Average Caffeine-to-Calories Ratio')\n",
    "plt.ylabel('Category')\n",
    "plt.title('Average Caffeine-to-Calories Ratio by Drink Category')\n",
    "\n",
    "# Display the plot\n",
    "plt.show()"
   ]
  },
  {
   "cell_type": "code",
   "execution_count": 13,
   "id": "a058f0c1-12f6-477a-89bf-a777dbe095ae",
   "metadata": {},
   "outputs": [],
   "source": [
    "# Formulate and answer a question about the dataset. \n",
    "#For example, “What is the relationship between sugar and caffeine across different drink categories?”\n",
    "\n",
    "# How does the calorie content vary across different drink categories in the Starbucks dataset, and is there a noticeable trend between the type of drink and its calorie content?\n",
    "\n",
    "# To answer this question, we can analyze the average calorie content for each drink category in the dataset and visualize any potential trends or differences using plots. This analysis could provide insights into the calorie content of different types of drinks offered by Starbucks."
   ]
  },
  {
   "cell_type": "code",
   "execution_count": null,
   "id": "d6dc3d1b-e5f0-41c5-985b-83061cb6e57f",
   "metadata": {},
   "outputs": [],
   "source": []
  }
 ],
 "metadata": {
  "kernelspec": {
   "display_name": "Python 3 (ipykernel)",
   "language": "python",
   "name": "python3"
  },
  "language_info": {
   "codemirror_mode": {
    "name": "ipython",
    "version": 3
   },
   "file_extension": ".py",
   "mimetype": "text/x-python",
   "name": "python",
   "nbconvert_exporter": "python",
   "pygments_lexer": "ipython3",
   "version": "3.11.3"
  }
 },
 "nbformat": 4,
 "nbformat_minor": 5
}
